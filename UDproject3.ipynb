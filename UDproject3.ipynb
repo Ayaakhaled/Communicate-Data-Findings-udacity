{
 "cells": [
  {
   "cell_type": "code",
   "execution_count": 1,
   "metadata": {},
   "outputs": [],
   "source": [
    "import pandas as pd \n",
    "import numpy as np \n",
    "import matplotlib.pyplot as plt \n",
    "import seaborn as sb "
   ]
  },
  {
   "cell_type": "markdown",
   "metadata": {},
   "source": [
    "part 1 ) Exploratory data analysis step 1 ) extract the data\n",
    "\n",
    "- read the data from csv \n",
    "- convert the dataset into pandas dataframe \n",
    "- explore the dataframe using df.ino(),df.head(),df.describe() "
   ]
  },
  {
   "cell_type": "code",
   "execution_count": 2,
   "metadata": {},
   "outputs": [],
   "source": [
    "df = pd.read_csv('dataset.csv', low_memory=False)"
   ]
  },
  {
   "cell_type": "code",
   "execution_count": 4,
   "metadata": {},
   "outputs": [
    {
     "name": "stdout",
     "output_type": "stream",
     "text": [
      "<class 'pandas.core.frame.DataFrame'>\n",
      "RangeIndex: 2252058 entries, 0 to 2252057\n",
      "Data columns (total 18 columns):\n",
      " #   Column                   Dtype  \n",
      "---  ------                   -----  \n",
      " 0   Unnamed: 0               int64  \n",
      " 1   Unnamed: 0.1             float64\n",
      " 2   duration_sec             int64  \n",
      " 3   start_time               object \n",
      " 4   end_time                 object \n",
      " 5   start_station_id         float64\n",
      " 6   start_station_name       object \n",
      " 7   start_station_latitude   float64\n",
      " 8   start_station_longitude  float64\n",
      " 9   end_station_id           float64\n",
      " 10  end_station_name         object \n",
      " 11  end_station_latitude     float64\n",
      " 12  end_station_longitude    float64\n",
      " 13  bike_id                  int64  \n",
      " 14  user_type                object \n",
      " 15  member_birth_year        float64\n",
      " 16  member_gender            object \n",
      " 17  bike_share_for_all_trip  object \n",
      "dtypes: float64(8), int64(3), object(7)\n",
      "memory usage: 309.3+ MB\n"
     ]
    }
   ],
   "source": [
    "df.info()"
   ]
  },
  {
   "cell_type": "code",
   "execution_count": null,
   "metadata": {},
   "outputs": [],
   "source": []
  },
  {
   "cell_type": "code",
   "execution_count": 5,
   "metadata": {},
   "outputs": [
    {
     "data": {
      "text/html": [
       "<div>\n",
       "<style scoped>\n",
       "    .dataframe tbody tr th:only-of-type {\n",
       "        vertical-align: middle;\n",
       "    }\n",
       "\n",
       "    .dataframe tbody tr th {\n",
       "        vertical-align: top;\n",
       "    }\n",
       "\n",
       "    .dataframe thead th {\n",
       "        text-align: right;\n",
       "    }\n",
       "</style>\n",
       "<table border=\"1\" class=\"dataframe\">\n",
       "  <thead>\n",
       "    <tr style=\"text-align: right;\">\n",
       "      <th></th>\n",
       "      <th>Unnamed: 0</th>\n",
       "      <th>Unnamed: 0.1</th>\n",
       "      <th>duration_sec</th>\n",
       "      <th>start_time</th>\n",
       "      <th>end_time</th>\n",
       "      <th>start_station_id</th>\n",
       "      <th>start_station_name</th>\n",
       "      <th>start_station_latitude</th>\n",
       "      <th>start_station_longitude</th>\n",
       "      <th>end_station_id</th>\n",
       "      <th>end_station_name</th>\n",
       "      <th>end_station_latitude</th>\n",
       "      <th>end_station_longitude</th>\n",
       "      <th>bike_id</th>\n",
       "      <th>user_type</th>\n",
       "      <th>member_birth_year</th>\n",
       "      <th>member_gender</th>\n",
       "      <th>bike_share_for_all_trip</th>\n",
       "    </tr>\n",
       "  </thead>\n",
       "  <tbody>\n",
       "    <tr>\n",
       "      <th>0</th>\n",
       "      <td>0</td>\n",
       "      <td>0.0</td>\n",
       "      <td>80110</td>\n",
       "      <td>2017-12-31 16:57:39.6540</td>\n",
       "      <td>2018-01-01 15:12:50.2450</td>\n",
       "      <td>74.0</td>\n",
       "      <td>Laguna St at Hayes St</td>\n",
       "      <td>37.776435</td>\n",
       "      <td>-122.426244</td>\n",
       "      <td>43.0</td>\n",
       "      <td>San Francisco Public Library (Grove St at Hyde...</td>\n",
       "      <td>37.778768</td>\n",
       "      <td>-122.415929</td>\n",
       "      <td>96</td>\n",
       "      <td>Customer</td>\n",
       "      <td>1987.0</td>\n",
       "      <td>Male</td>\n",
       "      <td>NaN</td>\n",
       "    </tr>\n",
       "    <tr>\n",
       "      <th>1</th>\n",
       "      <td>1</td>\n",
       "      <td>1.0</td>\n",
       "      <td>78800</td>\n",
       "      <td>2017-12-31 15:56:34.8420</td>\n",
       "      <td>2018-01-01 13:49:55.6170</td>\n",
       "      <td>284.0</td>\n",
       "      <td>Yerba Buena Center for the Arts (Howard St at ...</td>\n",
       "      <td>37.784872</td>\n",
       "      <td>-122.400876</td>\n",
       "      <td>96.0</td>\n",
       "      <td>Dolores St at 15th St</td>\n",
       "      <td>37.766210</td>\n",
       "      <td>-122.426614</td>\n",
       "      <td>88</td>\n",
       "      <td>Customer</td>\n",
       "      <td>1965.0</td>\n",
       "      <td>Female</td>\n",
       "      <td>NaN</td>\n",
       "    </tr>\n",
       "    <tr>\n",
       "      <th>2</th>\n",
       "      <td>2</td>\n",
       "      <td>2.0</td>\n",
       "      <td>45768</td>\n",
       "      <td>2017-12-31 22:45:48.4110</td>\n",
       "      <td>2018-01-01 11:28:36.8830</td>\n",
       "      <td>245.0</td>\n",
       "      <td>Downtown Berkeley BART</td>\n",
       "      <td>37.870348</td>\n",
       "      <td>-122.267764</td>\n",
       "      <td>245.0</td>\n",
       "      <td>Downtown Berkeley BART</td>\n",
       "      <td>37.870348</td>\n",
       "      <td>-122.267764</td>\n",
       "      <td>1094</td>\n",
       "      <td>Customer</td>\n",
       "      <td>NaN</td>\n",
       "      <td>NaN</td>\n",
       "      <td>NaN</td>\n",
       "    </tr>\n",
       "    <tr>\n",
       "      <th>3</th>\n",
       "      <td>3</td>\n",
       "      <td>3.0</td>\n",
       "      <td>62172</td>\n",
       "      <td>2017-12-31 17:31:10.6360</td>\n",
       "      <td>2018-01-01 10:47:23.5310</td>\n",
       "      <td>60.0</td>\n",
       "      <td>8th St at Ringold St</td>\n",
       "      <td>37.774520</td>\n",
       "      <td>-122.409449</td>\n",
       "      <td>5.0</td>\n",
       "      <td>Powell St BART Station (Market St at 5th St)</td>\n",
       "      <td>37.783899</td>\n",
       "      <td>-122.408445</td>\n",
       "      <td>2831</td>\n",
       "      <td>Customer</td>\n",
       "      <td>NaN</td>\n",
       "      <td>NaN</td>\n",
       "      <td>NaN</td>\n",
       "    </tr>\n",
       "    <tr>\n",
       "      <th>4</th>\n",
       "      <td>4</td>\n",
       "      <td>4.0</td>\n",
       "      <td>43603</td>\n",
       "      <td>2017-12-31 14:23:14.0010</td>\n",
       "      <td>2018-01-01 02:29:57.5710</td>\n",
       "      <td>239.0</td>\n",
       "      <td>Bancroft Way at Telegraph Ave</td>\n",
       "      <td>37.868813</td>\n",
       "      <td>-122.258764</td>\n",
       "      <td>247.0</td>\n",
       "      <td>Fulton St at Bancroft Way</td>\n",
       "      <td>37.867789</td>\n",
       "      <td>-122.265896</td>\n",
       "      <td>3167</td>\n",
       "      <td>Subscriber</td>\n",
       "      <td>1997.0</td>\n",
       "      <td>Female</td>\n",
       "      <td>NaN</td>\n",
       "    </tr>\n",
       "  </tbody>\n",
       "</table>\n",
       "</div>"
      ],
      "text/plain": [
       "   Unnamed: 0  Unnamed: 0.1  duration_sec                start_time  \\\n",
       "0           0           0.0         80110  2017-12-31 16:57:39.6540   \n",
       "1           1           1.0         78800  2017-12-31 15:56:34.8420   \n",
       "2           2           2.0         45768  2017-12-31 22:45:48.4110   \n",
       "3           3           3.0         62172  2017-12-31 17:31:10.6360   \n",
       "4           4           4.0         43603  2017-12-31 14:23:14.0010   \n",
       "\n",
       "                   end_time  start_station_id  \\\n",
       "0  2018-01-01 15:12:50.2450              74.0   \n",
       "1  2018-01-01 13:49:55.6170             284.0   \n",
       "2  2018-01-01 11:28:36.8830             245.0   \n",
       "3  2018-01-01 10:47:23.5310              60.0   \n",
       "4  2018-01-01 02:29:57.5710             239.0   \n",
       "\n",
       "                                  start_station_name  start_station_latitude  \\\n",
       "0                              Laguna St at Hayes St               37.776435   \n",
       "1  Yerba Buena Center for the Arts (Howard St at ...               37.784872   \n",
       "2                             Downtown Berkeley BART               37.870348   \n",
       "3                               8th St at Ringold St               37.774520   \n",
       "4                      Bancroft Way at Telegraph Ave               37.868813   \n",
       "\n",
       "   start_station_longitude  end_station_id  \\\n",
       "0              -122.426244            43.0   \n",
       "1              -122.400876            96.0   \n",
       "2              -122.267764           245.0   \n",
       "3              -122.409449             5.0   \n",
       "4              -122.258764           247.0   \n",
       "\n",
       "                                    end_station_name  end_station_latitude  \\\n",
       "0  San Francisco Public Library (Grove St at Hyde...             37.778768   \n",
       "1                              Dolores St at 15th St             37.766210   \n",
       "2                             Downtown Berkeley BART             37.870348   \n",
       "3       Powell St BART Station (Market St at 5th St)             37.783899   \n",
       "4                          Fulton St at Bancroft Way             37.867789   \n",
       "\n",
       "   end_station_longitude  bike_id   user_type  member_birth_year  \\\n",
       "0            -122.415929       96    Customer             1987.0   \n",
       "1            -122.426614       88    Customer             1965.0   \n",
       "2            -122.267764     1094    Customer                NaN   \n",
       "3            -122.408445     2831    Customer                NaN   \n",
       "4            -122.265896     3167  Subscriber             1997.0   \n",
       "\n",
       "  member_gender bike_share_for_all_trip  \n",
       "0          Male                     NaN  \n",
       "1        Female                     NaN  \n",
       "2           NaN                     NaN  \n",
       "3           NaN                     NaN  \n",
       "4        Female                     NaN  "
      ]
     },
     "execution_count": 5,
     "metadata": {},
     "output_type": "execute_result"
    }
   ],
   "source": [
    "df.head()"
   ]
  },
  {
   "cell_type": "markdown",
   "metadata": {},
   "source": [
    "The dataframe consists of 2252058 entries and total 18 columns"
   ]
  },
  {
   "cell_type": "code",
   "execution_count": 6,
   "metadata": {},
   "outputs": [
    {
     "data": {
      "text/html": [
       "<div>\n",
       "<style scoped>\n",
       "    .dataframe tbody tr th:only-of-type {\n",
       "        vertical-align: middle;\n",
       "    }\n",
       "\n",
       "    .dataframe tbody tr th {\n",
       "        vertical-align: top;\n",
       "    }\n",
       "\n",
       "    .dataframe thead th {\n",
       "        text-align: right;\n",
       "    }\n",
       "</style>\n",
       "<table border=\"1\" class=\"dataframe\">\n",
       "  <thead>\n",
       "    <tr style=\"text-align: right;\">\n",
       "      <th></th>\n",
       "      <th>Unnamed: 0</th>\n",
       "      <th>Unnamed: 0.1</th>\n",
       "      <th>duration_sec</th>\n",
       "      <th>start_station_id</th>\n",
       "      <th>start_station_latitude</th>\n",
       "      <th>start_station_longitude</th>\n",
       "      <th>end_station_id</th>\n",
       "      <th>end_station_latitude</th>\n",
       "      <th>end_station_longitude</th>\n",
       "      <th>bike_id</th>\n",
       "      <th>member_birth_year</th>\n",
       "    </tr>\n",
       "  </thead>\n",
       "  <tbody>\n",
       "    <tr>\n",
       "      <th>count</th>\n",
       "      <td>2.252058e+06</td>\n",
       "      <td>519700.000000</td>\n",
       "      <td>2.252058e+06</td>\n",
       "      <td>2.240479e+06</td>\n",
       "      <td>2.252058e+06</td>\n",
       "      <td>2.252058e+06</td>\n",
       "      <td>2.240479e+06</td>\n",
       "      <td>2.252058e+06</td>\n",
       "      <td>2.252058e+06</td>\n",
       "      <td>2.252058e+06</td>\n",
       "      <td>2.079810e+06</td>\n",
       "    </tr>\n",
       "    <tr>\n",
       "      <th>mean</th>\n",
       "      <td>1.244267e+05</td>\n",
       "      <td>259849.500000</td>\n",
       "      <td>9.181335e+02</td>\n",
       "      <td>1.132275e+02</td>\n",
       "      <td>3.776797e+01</td>\n",
       "      <td>-1.223525e+02</td>\n",
       "      <td>1.114495e+02</td>\n",
       "      <td>3.776810e+01</td>\n",
       "      <td>-1.223520e+02</td>\n",
       "      <td>2.101589e+03</td>\n",
       "      <td>1.982467e+03</td>\n",
       "    </tr>\n",
       "    <tr>\n",
       "      <th>std</th>\n",
       "      <td>1.133429e+05</td>\n",
       "      <td>150024.611786</td>\n",
       "      <td>2.686599e+03</td>\n",
       "      <td>9.713899e+01</td>\n",
       "      <td>1.015587e-01</td>\n",
       "      <td>1.560933e-01</td>\n",
       "      <td>9.702559e+01</td>\n",
       "      <td>1.014484e-01</td>\n",
       "      <td>1.556892e-01</td>\n",
       "      <td>1.195229e+03</td>\n",
       "      <td>1.051074e+01</td>\n",
       "    </tr>\n",
       "    <tr>\n",
       "      <th>min</th>\n",
       "      <td>0.000000e+00</td>\n",
       "      <td>0.000000</td>\n",
       "      <td>6.100000e+01</td>\n",
       "      <td>3.000000e+00</td>\n",
       "      <td>3.726331e+01</td>\n",
       "      <td>-1.224737e+02</td>\n",
       "      <td>3.000000e+00</td>\n",
       "      <td>3.726331e+01</td>\n",
       "      <td>-1.224737e+02</td>\n",
       "      <td>1.000000e+01</td>\n",
       "      <td>1.881000e+03</td>\n",
       "    </tr>\n",
       "    <tr>\n",
       "      <th>25%</th>\n",
       "      <td>4.691700e+04</td>\n",
       "      <td>129924.750000</td>\n",
       "      <td>3.580000e+02</td>\n",
       "      <td>3.000000e+01</td>\n",
       "      <td>3.777143e+01</td>\n",
       "      <td>-1.224114e+02</td>\n",
       "      <td>2.800000e+01</td>\n",
       "      <td>3.777166e+01</td>\n",
       "      <td>-1.224094e+02</td>\n",
       "      <td>1.098000e+03</td>\n",
       "      <td>1.977000e+03</td>\n",
       "    </tr>\n",
       "    <tr>\n",
       "      <th>50%</th>\n",
       "      <td>9.383500e+04</td>\n",
       "      <td>259849.500000</td>\n",
       "      <td>5.660000e+02</td>\n",
       "      <td>8.100000e+01</td>\n",
       "      <td>3.778127e+01</td>\n",
       "      <td>-1.223974e+02</td>\n",
       "      <td>8.100000e+01</td>\n",
       "      <td>3.778175e+01</td>\n",
       "      <td>-1.223971e+02</td>\n",
       "      <td>2.131000e+03</td>\n",
       "      <td>1.985000e+03</td>\n",
       "    </tr>\n",
       "    <tr>\n",
       "      <th>75%</th>\n",
       "      <td>1.586908e+05</td>\n",
       "      <td>389774.250000</td>\n",
       "      <td>8.880000e+02</td>\n",
       "      <td>1.800000e+02</td>\n",
       "      <td>3.779539e+01</td>\n",
       "      <td>-1.222948e+02</td>\n",
       "      <td>1.790000e+02</td>\n",
       "      <td>3.779539e+01</td>\n",
       "      <td>-1.222948e+02</td>\n",
       "      <td>3.059000e+03</td>\n",
       "      <td>1.990000e+03</td>\n",
       "    </tr>\n",
       "    <tr>\n",
       "      <th>max</th>\n",
       "      <td>5.196990e+05</td>\n",
       "      <td>519699.000000</td>\n",
       "      <td>8.636900e+04</td>\n",
       "      <td>3.810000e+02</td>\n",
       "      <td>4.551000e+01</td>\n",
       "      <td>-7.357000e+01</td>\n",
       "      <td>3.810000e+02</td>\n",
       "      <td>4.551000e+01</td>\n",
       "      <td>-7.357000e+01</td>\n",
       "      <td>4.466000e+03</td>\n",
       "      <td>2.000000e+03</td>\n",
       "    </tr>\n",
       "  </tbody>\n",
       "</table>\n",
       "</div>"
      ],
      "text/plain": [
       "         Unnamed: 0   Unnamed: 0.1  duration_sec  start_station_id  \\\n",
       "count  2.252058e+06  519700.000000  2.252058e+06      2.240479e+06   \n",
       "mean   1.244267e+05  259849.500000  9.181335e+02      1.132275e+02   \n",
       "std    1.133429e+05  150024.611786  2.686599e+03      9.713899e+01   \n",
       "min    0.000000e+00       0.000000  6.100000e+01      3.000000e+00   \n",
       "25%    4.691700e+04  129924.750000  3.580000e+02      3.000000e+01   \n",
       "50%    9.383500e+04  259849.500000  5.660000e+02      8.100000e+01   \n",
       "75%    1.586908e+05  389774.250000  8.880000e+02      1.800000e+02   \n",
       "max    5.196990e+05  519699.000000  8.636900e+04      3.810000e+02   \n",
       "\n",
       "       start_station_latitude  start_station_longitude  end_station_id  \\\n",
       "count            2.252058e+06             2.252058e+06    2.240479e+06   \n",
       "mean             3.776797e+01            -1.223525e+02    1.114495e+02   \n",
       "std              1.015587e-01             1.560933e-01    9.702559e+01   \n",
       "min              3.726331e+01            -1.224737e+02    3.000000e+00   \n",
       "25%              3.777143e+01            -1.224114e+02    2.800000e+01   \n",
       "50%              3.778127e+01            -1.223974e+02    8.100000e+01   \n",
       "75%              3.779539e+01            -1.222948e+02    1.790000e+02   \n",
       "max              4.551000e+01            -7.357000e+01    3.810000e+02   \n",
       "\n",
       "       end_station_latitude  end_station_longitude       bike_id  \\\n",
       "count          2.252058e+06           2.252058e+06  2.252058e+06   \n",
       "mean           3.776810e+01          -1.223520e+02  2.101589e+03   \n",
       "std            1.014484e-01           1.556892e-01  1.195229e+03   \n",
       "min            3.726331e+01          -1.224737e+02  1.000000e+01   \n",
       "25%            3.777166e+01          -1.224094e+02  1.098000e+03   \n",
       "50%            3.778175e+01          -1.223971e+02  2.131000e+03   \n",
       "75%            3.779539e+01          -1.222948e+02  3.059000e+03   \n",
       "max            4.551000e+01          -7.357000e+01  4.466000e+03   \n",
       "\n",
       "       member_birth_year  \n",
       "count       2.079810e+06  \n",
       "mean        1.982467e+03  \n",
       "std         1.051074e+01  \n",
       "min         1.881000e+03  \n",
       "25%         1.977000e+03  \n",
       "50%         1.985000e+03  \n",
       "75%         1.990000e+03  \n",
       "max         2.000000e+03  "
      ]
     },
     "execution_count": 6,
     "metadata": {},
     "output_type": "execute_result"
    }
   ],
   "source": [
    "#dataframe summary statistics \n",
    "df.describe()"
   ]
  },
  {
   "cell_type": "markdown",
   "metadata": {},
   "source": [
    "so we can see the main features in the data set are \n",
    "- user_type \n",
    "- member_gender\n",
    "- member_birth_year        \n",
    "- start_station_name       \n",
    "- duration_sec    "
   ]
  },
  {
   "cell_type": "markdown",
   "metadata": {},
   "source": [
    "step 2 ) Handling Missing Data\n"
   ]
  },
  {
   "cell_type": "code",
   "execution_count": 7,
   "metadata": {},
   "outputs": [
    {
     "data": {
      "text/html": [
       "<div>\n",
       "<style scoped>\n",
       "    .dataframe tbody tr th:only-of-type {\n",
       "        vertical-align: middle;\n",
       "    }\n",
       "\n",
       "    .dataframe tbody tr th {\n",
       "        vertical-align: top;\n",
       "    }\n",
       "\n",
       "    .dataframe thead th {\n",
       "        text-align: right;\n",
       "    }\n",
       "</style>\n",
       "<table border=\"1\" class=\"dataframe\">\n",
       "  <thead>\n",
       "    <tr style=\"text-align: right;\">\n",
       "      <th></th>\n",
       "      <th>Unnamed: 0</th>\n",
       "      <th>Unnamed: 0.1</th>\n",
       "      <th>duration_sec</th>\n",
       "      <th>start_time</th>\n",
       "      <th>end_time</th>\n",
       "      <th>start_station_id</th>\n",
       "      <th>start_station_name</th>\n",
       "      <th>start_station_latitude</th>\n",
       "      <th>start_station_longitude</th>\n",
       "      <th>end_station_id</th>\n",
       "      <th>end_station_name</th>\n",
       "      <th>end_station_latitude</th>\n",
       "      <th>end_station_longitude</th>\n",
       "      <th>bike_id</th>\n",
       "      <th>user_type</th>\n",
       "      <th>member_birth_year</th>\n",
       "      <th>member_gender</th>\n",
       "      <th>bike_share_for_all_trip</th>\n",
       "    </tr>\n",
       "  </thead>\n",
       "  <tbody>\n",
       "    <tr>\n",
       "      <th>0</th>\n",
       "      <td>False</td>\n",
       "      <td>False</td>\n",
       "      <td>False</td>\n",
       "      <td>False</td>\n",
       "      <td>False</td>\n",
       "      <td>False</td>\n",
       "      <td>False</td>\n",
       "      <td>False</td>\n",
       "      <td>False</td>\n",
       "      <td>False</td>\n",
       "      <td>False</td>\n",
       "      <td>False</td>\n",
       "      <td>False</td>\n",
       "      <td>False</td>\n",
       "      <td>False</td>\n",
       "      <td>False</td>\n",
       "      <td>False</td>\n",
       "      <td>True</td>\n",
       "    </tr>\n",
       "    <tr>\n",
       "      <th>1</th>\n",
       "      <td>False</td>\n",
       "      <td>False</td>\n",
       "      <td>False</td>\n",
       "      <td>False</td>\n",
       "      <td>False</td>\n",
       "      <td>False</td>\n",
       "      <td>False</td>\n",
       "      <td>False</td>\n",
       "      <td>False</td>\n",
       "      <td>False</td>\n",
       "      <td>False</td>\n",
       "      <td>False</td>\n",
       "      <td>False</td>\n",
       "      <td>False</td>\n",
       "      <td>False</td>\n",
       "      <td>False</td>\n",
       "      <td>False</td>\n",
       "      <td>True</td>\n",
       "    </tr>\n",
       "    <tr>\n",
       "      <th>2</th>\n",
       "      <td>False</td>\n",
       "      <td>False</td>\n",
       "      <td>False</td>\n",
       "      <td>False</td>\n",
       "      <td>False</td>\n",
       "      <td>False</td>\n",
       "      <td>False</td>\n",
       "      <td>False</td>\n",
       "      <td>False</td>\n",
       "      <td>False</td>\n",
       "      <td>False</td>\n",
       "      <td>False</td>\n",
       "      <td>False</td>\n",
       "      <td>False</td>\n",
       "      <td>False</td>\n",
       "      <td>True</td>\n",
       "      <td>True</td>\n",
       "      <td>True</td>\n",
       "    </tr>\n",
       "    <tr>\n",
       "      <th>3</th>\n",
       "      <td>False</td>\n",
       "      <td>False</td>\n",
       "      <td>False</td>\n",
       "      <td>False</td>\n",
       "      <td>False</td>\n",
       "      <td>False</td>\n",
       "      <td>False</td>\n",
       "      <td>False</td>\n",
       "      <td>False</td>\n",
       "      <td>False</td>\n",
       "      <td>False</td>\n",
       "      <td>False</td>\n",
       "      <td>False</td>\n",
       "      <td>False</td>\n",
       "      <td>False</td>\n",
       "      <td>True</td>\n",
       "      <td>True</td>\n",
       "      <td>True</td>\n",
       "    </tr>\n",
       "    <tr>\n",
       "      <th>4</th>\n",
       "      <td>False</td>\n",
       "      <td>False</td>\n",
       "      <td>False</td>\n",
       "      <td>False</td>\n",
       "      <td>False</td>\n",
       "      <td>False</td>\n",
       "      <td>False</td>\n",
       "      <td>False</td>\n",
       "      <td>False</td>\n",
       "      <td>False</td>\n",
       "      <td>False</td>\n",
       "      <td>False</td>\n",
       "      <td>False</td>\n",
       "      <td>False</td>\n",
       "      <td>False</td>\n",
       "      <td>False</td>\n",
       "      <td>False</td>\n",
       "      <td>True</td>\n",
       "    </tr>\n",
       "    <tr>\n",
       "      <th>...</th>\n",
       "      <td>...</td>\n",
       "      <td>...</td>\n",
       "      <td>...</td>\n",
       "      <td>...</td>\n",
       "      <td>...</td>\n",
       "      <td>...</td>\n",
       "      <td>...</td>\n",
       "      <td>...</td>\n",
       "      <td>...</td>\n",
       "      <td>...</td>\n",
       "      <td>...</td>\n",
       "      <td>...</td>\n",
       "      <td>...</td>\n",
       "      <td>...</td>\n",
       "      <td>...</td>\n",
       "      <td>...</td>\n",
       "      <td>...</td>\n",
       "      <td>...</td>\n",
       "    </tr>\n",
       "    <tr>\n",
       "      <th>2252053</th>\n",
       "      <td>False</td>\n",
       "      <td>True</td>\n",
       "      <td>False</td>\n",
       "      <td>False</td>\n",
       "      <td>False</td>\n",
       "      <td>False</td>\n",
       "      <td>False</td>\n",
       "      <td>False</td>\n",
       "      <td>False</td>\n",
       "      <td>False</td>\n",
       "      <td>False</td>\n",
       "      <td>False</td>\n",
       "      <td>False</td>\n",
       "      <td>False</td>\n",
       "      <td>False</td>\n",
       "      <td>False</td>\n",
       "      <td>False</td>\n",
       "      <td>False</td>\n",
       "    </tr>\n",
       "    <tr>\n",
       "      <th>2252054</th>\n",
       "      <td>False</td>\n",
       "      <td>True</td>\n",
       "      <td>False</td>\n",
       "      <td>False</td>\n",
       "      <td>False</td>\n",
       "      <td>False</td>\n",
       "      <td>False</td>\n",
       "      <td>False</td>\n",
       "      <td>False</td>\n",
       "      <td>False</td>\n",
       "      <td>False</td>\n",
       "      <td>False</td>\n",
       "      <td>False</td>\n",
       "      <td>False</td>\n",
       "      <td>False</td>\n",
       "      <td>False</td>\n",
       "      <td>False</td>\n",
       "      <td>False</td>\n",
       "    </tr>\n",
       "    <tr>\n",
       "      <th>2252055</th>\n",
       "      <td>False</td>\n",
       "      <td>True</td>\n",
       "      <td>False</td>\n",
       "      <td>False</td>\n",
       "      <td>False</td>\n",
       "      <td>False</td>\n",
       "      <td>False</td>\n",
       "      <td>False</td>\n",
       "      <td>False</td>\n",
       "      <td>False</td>\n",
       "      <td>False</td>\n",
       "      <td>False</td>\n",
       "      <td>False</td>\n",
       "      <td>False</td>\n",
       "      <td>False</td>\n",
       "      <td>False</td>\n",
       "      <td>False</td>\n",
       "      <td>False</td>\n",
       "    </tr>\n",
       "    <tr>\n",
       "      <th>2252056</th>\n",
       "      <td>False</td>\n",
       "      <td>True</td>\n",
       "      <td>False</td>\n",
       "      <td>False</td>\n",
       "      <td>False</td>\n",
       "      <td>False</td>\n",
       "      <td>False</td>\n",
       "      <td>False</td>\n",
       "      <td>False</td>\n",
       "      <td>False</td>\n",
       "      <td>False</td>\n",
       "      <td>False</td>\n",
       "      <td>False</td>\n",
       "      <td>False</td>\n",
       "      <td>False</td>\n",
       "      <td>False</td>\n",
       "      <td>False</td>\n",
       "      <td>False</td>\n",
       "    </tr>\n",
       "    <tr>\n",
       "      <th>2252057</th>\n",
       "      <td>False</td>\n",
       "      <td>True</td>\n",
       "      <td>False</td>\n",
       "      <td>False</td>\n",
       "      <td>False</td>\n",
       "      <td>False</td>\n",
       "      <td>False</td>\n",
       "      <td>False</td>\n",
       "      <td>False</td>\n",
       "      <td>False</td>\n",
       "      <td>False</td>\n",
       "      <td>False</td>\n",
       "      <td>False</td>\n",
       "      <td>False</td>\n",
       "      <td>False</td>\n",
       "      <td>False</td>\n",
       "      <td>False</td>\n",
       "      <td>False</td>\n",
       "    </tr>\n",
       "  </tbody>\n",
       "</table>\n",
       "<p>2252058 rows × 18 columns</p>\n",
       "</div>"
      ],
      "text/plain": [
       "         Unnamed: 0  Unnamed: 0.1  duration_sec  start_time  end_time  \\\n",
       "0             False         False         False       False     False   \n",
       "1             False         False         False       False     False   \n",
       "2             False         False         False       False     False   \n",
       "3             False         False         False       False     False   \n",
       "4             False         False         False       False     False   \n",
       "...             ...           ...           ...         ...       ...   \n",
       "2252053       False          True         False       False     False   \n",
       "2252054       False          True         False       False     False   \n",
       "2252055       False          True         False       False     False   \n",
       "2252056       False          True         False       False     False   \n",
       "2252057       False          True         False       False     False   \n",
       "\n",
       "         start_station_id  start_station_name  start_station_latitude  \\\n",
       "0                   False               False                   False   \n",
       "1                   False               False                   False   \n",
       "2                   False               False                   False   \n",
       "3                   False               False                   False   \n",
       "4                   False               False                   False   \n",
       "...                   ...                 ...                     ...   \n",
       "2252053             False               False                   False   \n",
       "2252054             False               False                   False   \n",
       "2252055             False               False                   False   \n",
       "2252056             False               False                   False   \n",
       "2252057             False               False                   False   \n",
       "\n",
       "         start_station_longitude  end_station_id  end_station_name  \\\n",
       "0                          False           False             False   \n",
       "1                          False           False             False   \n",
       "2                          False           False             False   \n",
       "3                          False           False             False   \n",
       "4                          False           False             False   \n",
       "...                          ...             ...               ...   \n",
       "2252053                    False           False             False   \n",
       "2252054                    False           False             False   \n",
       "2252055                    False           False             False   \n",
       "2252056                    False           False             False   \n",
       "2252057                    False           False             False   \n",
       "\n",
       "         end_station_latitude  end_station_longitude  bike_id  user_type  \\\n",
       "0                       False                  False    False      False   \n",
       "1                       False                  False    False      False   \n",
       "2                       False                  False    False      False   \n",
       "3                       False                  False    False      False   \n",
       "4                       False                  False    False      False   \n",
       "...                       ...                    ...      ...        ...   \n",
       "2252053                 False                  False    False      False   \n",
       "2252054                 False                  False    False      False   \n",
       "2252055                 False                  False    False      False   \n",
       "2252056                 False                  False    False      False   \n",
       "2252057                 False                  False    False      False   \n",
       "\n",
       "         member_birth_year  member_gender  bike_share_for_all_trip  \n",
       "0                    False          False                     True  \n",
       "1                    False          False                     True  \n",
       "2                     True           True                     True  \n",
       "3                     True           True                     True  \n",
       "4                    False          False                     True  \n",
       "...                    ...            ...                      ...  \n",
       "2252053              False          False                    False  \n",
       "2252054              False          False                    False  \n",
       "2252055              False          False                    False  \n",
       "2252056              False          False                    False  \n",
       "2252057              False          False                    False  \n",
       "\n",
       "[2252058 rows x 18 columns]"
      ]
     },
     "execution_count": 7,
     "metadata": {},
     "output_type": "execute_result"
    }
   ],
   "source": [
    "df.isna()"
   ]
  },
  {
   "cell_type": "code",
   "execution_count": 8,
   "metadata": {},
   "outputs": [
    {
     "data": {
      "text/plain": [
       "Unnamed: 0                       0\n",
       "Unnamed: 0.1               1732358\n",
       "duration_sec                     0\n",
       "start_time                       0\n",
       "end_time                         0\n",
       "start_station_id             11579\n",
       "start_station_name           11579\n",
       "start_station_latitude           0\n",
       "start_station_longitude          0\n",
       "end_station_id               11579\n",
       "end_station_name             11579\n",
       "end_station_latitude             0\n",
       "end_station_longitude            0\n",
       "bike_id                          0\n",
       "user_type                        0\n",
       "member_birth_year           172248\n",
       "member_gender               171818\n",
       "bike_share_for_all_trip     519700\n",
       "dtype: int64"
      ]
     },
     "execution_count": 8,
     "metadata": {},
     "output_type": "execute_result"
    }
   ],
   "source": [
    "df.isnull().sum()\n"
   ]
  },
  {
   "cell_type": "code",
   "execution_count": 9,
   "metadata": {},
   "outputs": [
    {
     "data": {
      "text/plain": [
       "0"
      ]
     },
     "execution_count": 9,
     "metadata": {},
     "output_type": "execute_result"
    }
   ],
   "source": [
    "df.duplicated().sum()\n"
   ]
  },
  {
   "cell_type": "markdown",
   "metadata": {},
   "source": [
    "3) explore the main features ( columns )"
   ]
  },
  {
   "cell_type": "code",
   "execution_count": 10,
   "metadata": {},
   "outputs": [
    {
     "data": {
      "text/plain": [
       "0            96\n",
       "1            88\n",
       "2          1094\n",
       "3          2831\n",
       "4          3167\n",
       "           ... \n",
       "2252053    1860\n",
       "2252054    3028\n",
       "2252055    3139\n",
       "2252056    1321\n",
       "2252057    2987\n",
       "Name: bike_id, Length: 2252058, dtype: int64"
      ]
     },
     "execution_count": 10,
     "metadata": {},
     "output_type": "execute_result"
    }
   ],
   "source": [
    "df['bike_id']"
   ]
  },
  {
   "cell_type": "code",
   "execution_count": 11,
   "metadata": {},
   "outputs": [
    {
     "data": {
      "text/plain": [
       "0            Male\n",
       "1          Female\n",
       "2             NaN\n",
       "3             NaN\n",
       "4          Female\n",
       "            ...  \n",
       "2252053      Male\n",
       "2252054      Male\n",
       "2252055      Male\n",
       "2252056      Male\n",
       "2252057    Female\n",
       "Name: member_gender, Length: 2252058, dtype: object"
      ]
     },
     "execution_count": 11,
     "metadata": {},
     "output_type": "execute_result"
    }
   ],
   "source": [
    "df['member_gender']"
   ]
  },
  {
   "cell_type": "markdown",
   "metadata": {},
   "source": [
    "we can divide the member gender into 3 categories : \n",
    "    - Male \n",
    "    - Female \n",
    "    - missing value ( Nan ) - Other type "
   ]
  },
  {
   "cell_type": "code",
   "execution_count": 12,
   "metadata": {},
   "outputs": [
    {
     "data": {
      "text/plain": [
       "0          1987.0\n",
       "1          1965.0\n",
       "2             NaN\n",
       "3             NaN\n",
       "4          1997.0\n",
       "            ...  \n",
       "2252053    1970.0\n",
       "2252054    1977.0\n",
       "2252055    1990.0\n",
       "2252056    1991.0\n",
       "2252057    1984.0\n",
       "Name: member_birth_year, Length: 2252058, dtype: float64"
      ]
     },
     "execution_count": 12,
     "metadata": {},
     "output_type": "execute_result"
    }
   ],
   "source": [
    "df['member_birth_year']"
   ]
  },
  {
   "cell_type": "code",
   "execution_count": 3,
   "metadata": {},
   "outputs": [
    {
     "data": {
      "text/plain": [
       "0          33.0\n",
       "1          55.0\n",
       "2           NaN\n",
       "3           NaN\n",
       "4          23.0\n",
       "           ... \n",
       "2252053    50.0\n",
       "2252054    43.0\n",
       "2252055    30.0\n",
       "2252056    29.0\n",
       "2252057    36.0\n",
       "Name: members_age, Length: 2252058, dtype: float64"
      ]
     },
     "execution_count": 3,
     "metadata": {},
     "output_type": "execute_result"
    }
   ],
   "source": [
    "df['members_age'] = 2020 - df['member_birth_year']\n",
    "df['members_age']"
   ]
  },
  {
   "cell_type": "code",
   "execution_count": 4,
   "metadata": {},
   "outputs": [
    {
     "data": {
      "text/plain": [
       "0            Customer\n",
       "1            Customer\n",
       "2            Customer\n",
       "3            Customer\n",
       "4          Subscriber\n",
       "              ...    \n",
       "2252053    Subscriber\n",
       "2252054    Subscriber\n",
       "2252055    Subscriber\n",
       "2252056    Subscriber\n",
       "2252057    Subscriber\n",
       "Name: user_type, Length: 2252058, dtype: object"
      ]
     },
     "execution_count": 4,
     "metadata": {},
     "output_type": "execute_result"
    }
   ],
   "source": [
    "df['user_type']"
   ]
  },
  {
   "cell_type": "markdown",
   "metadata": {},
   "source": [
    "the main types of users are \n",
    "- Customer\n",
    "- Subscriber"
   ]
  },
  {
   "cell_type": "code",
   "execution_count": 15,
   "metadata": {},
   "outputs": [
    {
     "data": {
      "text/plain": [
       "0          NaN\n",
       "1          NaN\n",
       "2          NaN\n",
       "3          NaN\n",
       "4          NaN\n",
       "          ... \n",
       "2252053    Yes\n",
       "2252054     No\n",
       "2252055     No\n",
       "2252056     No\n",
       "2252057     No\n",
       "Name: bike_share_for_all_trip, Length: 2252058, dtype: object"
      ]
     },
     "execution_count": 15,
     "metadata": {},
     "output_type": "execute_result"
    }
   ],
   "source": [
    "df['bike_share_for_all_trip']\n"
   ]
  },
  {
   "cell_type": "markdown",
   "metadata": {},
   "source": [
    "now i will explore the start and end stations names"
   ]
  },
  {
   "cell_type": "code",
   "execution_count": 16,
   "metadata": {},
   "outputs": [
    {
     "data": {
      "text/plain": [
       "array(['Laguna St at Hayes St',\n",
       "       'Yerba Buena Center for the Arts (Howard St at 3rd St)',\n",
       "       'Downtown Berkeley BART', '8th St at Ringold St',\n",
       "       'Bancroft Way at Telegraph Ave',\n",
       "       'San Francisco Caltrain (Townsend St at 4th St)',\n",
       "       'Addison St at Fourth St',\n",
       "       'Mechanics Monument Plaza (Market St at Bush St)',\n",
       "       'San Francisco Caltrain Station 2  (Townsend St at 4th St)',\n",
       "       '3rd St at Townsend St', 'Clay St at Battery St',\n",
       "       'Folsom St at 9th St', 'Cyril Magnin St at Ellis St',\n",
       "       'San Salvador St at 9th St',\n",
       "       'Garfield Square (25th St at Harrison St)',\n",
       "       'The Embarcadero at Sansome St', 'Broadway at Kearny',\n",
       "       'S Park St at 3rd St', 'California St at University Ave',\n",
       "       'Frank H Ogawa Plaza', 'Dolores St at 15th St',\n",
       "       'The Alameda at Bush St', '19th Street BART Station',\n",
       "       'Valencia St at 16th St', 'Post St at Kearny St',\n",
       "       'San Francisco City Hall (Polk St at Grove St)',\n",
       "       'Church St at Duboce Ave', '19th St at Florida St',\n",
       "       'Russell St at College Ave', 'The Embarcadero at Vallejo St',\n",
       "       '5th St at Howard St', 'Market St at 10th St',\n",
       "       'Valencia St at 21st St', '24th St at Chattanooga St',\n",
       "       '14th St at Mandela Pkwy', 'Beale St at Harrison St',\n",
       "       'Mission Playground', 'Valencia St at 24th St',\n",
       "       'Washington St at Kearny St', 'The Embarcadero at Steuart St',\n",
       "       'Esprit Park', '18th St at Noe St', 'Washington St at 8th St',\n",
       "       'Lake Merritt BART Station', 'Golden Gate Ave at Polk St',\n",
       "       'The Embarcadero at Bryant St', 'Grove St at Divisadero',\n",
       "       'Golden Gate Ave at Hyde St', '2nd St at S Park St',\n",
       "       'Steuart St at Market St', 'Davis St at Jackson St',\n",
       "       'Morrison Ave at Julian St', 'West Oakland BART Station',\n",
       "       '29th St at Tiffany Ave', '20th St at Bryant St',\n",
       "       'Valencia St at 22nd St', '2nd Ave at E 18th St',\n",
       "       'College Ave at Harwood Ave', 'Cahill Park',\n",
       "       'Folsom St at 15th St', 'Berry St at 4th St',\n",
       "       'MLK Jr Way at 14th St', 'McAllister St at Baker St',\n",
       "       'Market St at Dolores St', 'Howard St at 8th St',\n",
       "       '45th St at Manila', '14th St at Mission St',\n",
       "       '4th St at Mission Bay Blvd S', 'Telegraph Ave at 23rd St',\n",
       "       'El Embarcadero at Grand Ave', '2nd St at Folsom St',\n",
       "       'Harrison St at 20th St', 'Grand Ave at Perkins St',\n",
       "       '11th St at Natoma St', '4th St at Harrison St',\n",
       "       'Powell St BART Station (Market St at 4th St)',\n",
       "       'Union Square (Powell St at Post St)',\n",
       "       'Paseo De San Antonio at 2nd St', 'Central Ave at Fell St',\n",
       "       'Commercial St at Montgomery St', 'Lakeside Dr at 14th St',\n",
       "       'Julian St at The Alameda', 'SAP Center', 'MacArthur BART Station',\n",
       "       'Ashby BART Station', 'San Fernando at 7th St',\n",
       "       'Harrison St at 17th St', '16th St Mission BART',\n",
       "       'Franklin Square', 'Sanchez St at 15th St',\n",
       "       'Townsend St at 7th St', 'Raymond Kimbell Playground',\n",
       "       'Father Alfred E Boeddeker Park',\n",
       "       'Civic Center/UN Plaza BART Station (Market St at McAllister St)',\n",
       "       '1st St at Folsom St', 'Eureka Valley Recreation Center',\n",
       "       'Howard St at Beale St', \"Webster St at O'Farrell St\",\n",
       "       'Mosswood Park', 'Broderick St at Oak St',\n",
       "       'San Francisco Ferry Building (Harry Bridges Plaza)',\n",
       "       '16th St Mission BART Station 2', 'Market St at Franklin St',\n",
       "       'San Carlos St at Market St', 'Haste St at Telegraph Ave',\n",
       "       'Division St at Potrero Ave', 'Mission Dolores Park',\n",
       "       'Oregon St at Adeline St', 'Rhode Island St at 17th St',\n",
       "       'Jackson Playground', 'Bay Pl at Vernon St', 'Page St at Scott St',\n",
       "       'Powell St BART Station (Market St at 5th St)',\n",
       "       'Jersey St at Castro St', '7th St at Brannan St',\n",
       "       '59th St at Horton St', 'University Ave at Oxford St',\n",
       "       '22nd St Caltrain Station', 'Willow St at Vine St',\n",
       "       '5th St at Virginia St', '5th at Folsom',\n",
       "       'Vine St at Shattuck Ave', 'Telegraph Ave at Alcatraz Ave',\n",
       "       '47th St at San Pablo Ave', 'Broadway at 40th St',\n",
       "       '17th St at Valencia St', 'Howard St at 2nd St',\n",
       "       'Folsom St at 3rd St', 'Folsom St at 19th St',\n",
       "       'Telegraph Ave at 19th St', 'Irwin St at 8th St',\n",
       "       'San Francisco Public Library (Grove St at Hyde St)',\n",
       "       'Union St at 10th St', 'Townsend St at 5th St',\n",
       "       'Stanford Ave at Hollis St', '11th St at Bryant St',\n",
       "       'Locust St at Grant St', '17th St at Dolores St', 'Precita Park',\n",
       "       'Shattuck Ave at Telegraph Ave', '10th St at Fallon St',\n",
       "       'Webster St at Grove St', 'Grand Ave at Webster St',\n",
       "       '16th St at Prosper St', \"O'Farrell St at Divisadero St\",\n",
       "       'Laguna St at McAllister St', 'Fruitvale BART Station',\n",
       "       'Market St at Park St', 'S Van Ness Ave at Market St',\n",
       "       'Franklin St at 9th St',\n",
       "       'Embarcadero BART Station (Beale St at Market St)',\n",
       "       'Shattuck Ave at 55th Ave', 'College Ave at Taft Ave',\n",
       "       'Horton St at 40th St', '55th St at Telegraph Ave',\n",
       "       'Victoria Manalo Draves Park', 'Grand Ave at Santa Clara Ave',\n",
       "       'Berkeley Civic Center', 'McCoppin St at Valencia St',\n",
       "       'Broadway at Coronado Ave', 'Ninth St at Heinz Ave',\n",
       "       'Spear St at Folsom St', 'Bryant St at 15th St',\n",
       "       'Parker St at Fulton St', '19th St at Mission St',\n",
       "       'Lakeshore Ave at Trestle Glen Rd', 'MLK Jr Way at University Ave',\n",
       "       'Channing Way at San Pablo Ave', '5th St at Brannan St',\n",
       "       '29th St at Church St', 'Bancroft Way at College Ave',\n",
       "       'Montgomery St BART Station (Market St at 2nd St)', 'Duboce Park',\n",
       "       'Dover St at 57th St', 'Koshland Park', 'Genoa St at 55th St',\n",
       "       'Santa Clara St at 7th St', 'North Berkeley BART Station',\n",
       "       '49th St at Telegraph Ave', 'Broadway at 30th St',\n",
       "       'Autumn Parkway at Coleman Ave', 'Valencia St at Cesar Chavez St',\n",
       "       '30th St at San Jose Ave', 'Isabella St at San Pablo Ave',\n",
       "       'Ryland Park', 'San Pablo Ave at MLK Jr Way',\n",
       "       'Pierce Ave at Market St', 'San Carlos St at 11th St',\n",
       "       'Sanchez St at 17th St', 'Broadway at Battery St',\n",
       "       'Bryant St at 6th St', '37th St at West St',\n",
       "       'Delmas Ave and San Fernando St', '5th St at San Salvador St',\n",
       "       '17th & Folsom Street Park (17th St at Folsom St)',\n",
       "       'William St at 10th St', 'Telegraph Ave at Carleton St',\n",
       "       'Telegraph Ave at Ashby Ave', 'Market St at 40th St',\n",
       "       '65th St at Hollis St', '12th St at 6th Ave',\n",
       "       'Market St at Brockhurst St', 'Harmon St at Adeline St',\n",
       "       '45th St at MLK Jr Way', 'Fulton St at Bancroft Way',\n",
       "       'Shafter Ave at Cavour St', 'San Bruno Ave at 16th St',\n",
       "       'Telegraph Ave at 58th St', 'Foothill Blvd at Fruitvale Ave',\n",
       "       'Mississippi St at 17th St', 'San Pedro Square',\n",
       "       'Jackson St at 5th St', 'San Jose Diridon Station',\n",
       "       'College Ave at Bryant Ave', 'Santa Clara St at Almaden Blvd',\n",
       "       'Shattuck Ave at 51st St', 'Scott St at Golden Gate Ave',\n",
       "       '26th Ave at International Blvd', 'Jersey St at Church St',\n",
       "       'San Pablo Ave at 27th St', 'Snow Park',\n",
       "       'Telegraph Ave at 27th St', 'S. 4th St at San Carlos St',\n",
       "       'Bestor Art Park', 'Shattuck Ave at Hearst Ave',\n",
       "       'San Salvador St at 1st St', '12th St at 4th Ave',\n",
       "       'Adeline St at 40th St', 'Julian St at 6th St',\n",
       "       'San Fernando St at 4th St', 'Webster St at 19th St',\n",
       "       '13th St at Franklin St', 'Derby St at College Ave',\n",
       "       'San Antonio Park', '24th St at Market St',\n",
       "       '32nd St at Adeline St', 'DeFremery Park', 'West St at 40th St',\n",
       "       'Cesar Chavez St at Dolores St', '10th Ave at E 15th St',\n",
       "       'W St John St at Guadalupe River Trail', '5th St at Taylor St',\n",
       "       'MacArthur Blvd at Telegraph Ave', '34th St at Telegraph Ave',\n",
       "       '9th St at San Fernando', 'Doyle St at 59th St', 'Bushrod Park',\n",
       "       'Jackson St at 11th St', 'Almaden Blvd at Balbach St',\n",
       "       'Emeryville Town Hall', 'Fruitvale Ave at International Blvd',\n",
       "       'Mission St at 1st St', 'Foothill Blvd at Harrington Ave',\n",
       "       'Ninth St at Parker St', 'Almaden Blvd at San Fernando St',\n",
       "       'Palm St at Willow St', 'San Jose City Hall',\n",
       "       'George St at 1st St', 'Marston Campbell Park', 'Saint James Park',\n",
       "       'Ellsworth St at Russell St', 'Empire St at 1st St',\n",
       "       '53rd St at Hollis St', 'Market St at 8th St',\n",
       "       '21st Ave at International Blvd', '14th St at Filbert St',\n",
       "       'Foothill Blvd at 42nd Ave', '2nd St at Townsend St - Coming Soon',\n",
       "       'Franklin St at 14th St', 'Webster St at 17th St',\n",
       "       'Jackson St at 14th St', 'Dolores St at 22nd St',\n",
       "       'Rockridge BART Station',\n",
       "       'Colin P Kelly Jr St at Townsend St (Temporary Site)',\n",
       "       'Potrero Ave and Mariposa St', 'Fountain Alley at S 2nd St',\n",
       "       '27th St at MLK Jr Way', '23rd Ave at Foothill Blvd',\n",
       "       'Hearst Ave at Euclid Ave', 'College Ave at Alcatraz Ave',\n",
       "       'Woolsey St at Sacramento St', 'Oak St at 1st St',\n",
       "       'Channing Way at Shattuck Ave', 'Webster St at 2nd St',\n",
       "       'Pierce St at Haight St', 'Fulton St at Ashby Ave',\n",
       "       'Milvia St at Derby St', 'Jack London Square',\n",
       "       'Emeryville Public Market', 'Virginia St at Shattuck Ave',\n",
       "       'Market St at 45th St', 'Bryant St at 2nd St',\n",
       "       'Alcatraz Ave at Shattuck Ave', 'San Pedro St at Hedding St',\n",
       "       'Tamien Station', '2nd St at Townsend St', 'Hubbell St at 16th St',\n",
       "       'San Pablo Park', '16th St Depot', 'Howard St at Mary St',\n",
       "       '8th St at Brannan St', 'Haste St at College Ave', nan,\n",
       "       '23rd St at Tennessee St', 'Mission Bay Kids Park',\n",
       "       'Folsom St at 13th St', 'Shattuck Ave at 55th St',\n",
       "       'Valencia St at Clinton Park', 'Fifth St at Delaware St',\n",
       "       '4th St at 16th St', 'Berry St at King St',\n",
       "       '23rd St and San Bruno Ave',\n",
       "       'Miles Ave at Cavour St (Temporary Location)',\n",
       "       '10th St at University Ave', 'West St at University Ave',\n",
       "       '2nd St at Julian St',\n",
       "       'MLK Jr Way at 36th St (Temporary Location)',\n",
       "       'Mission Rock St at 3rd St',\n",
       "       'Salesforce Transit Center (Natoma St at 2nd St)',\n",
       "       '6th St at San Fernando St (Temporary Location)',\n",
       "       '5th St at Folsom', 'William St at 4th St (Temporary Location)',\n",
       "       'Potrero Ave at 15th St (Temporary Location)',\n",
       "       'E 12th St at 6th Ave', 'E 12th St at 4th Ave',\n",
       "       'Turk St at Fillmore St', 'Outside Lands 2018 (Temporary Station)',\n",
       "       '23rd St at San Bruno Ave', 'Miles Ave at Cavour St',\n",
       "       'Madison St at 17th St', '9th St at San Fernando St',\n",
       "       'Webster St at MacArthur Blvd (Temporary Location)',\n",
       "       '4th Ave at E 12th St (Temporary Location)',\n",
       "       '6th Ave at E 12th St (Temporary Location)',\n",
       "       'Lane St at Van Dyke Ave', 'Lane St at Revere Ave',\n",
       "       'Williams Ave at Apollo St', 'Newhall St at 3rd St',\n",
       "       'Mendell St at Fairfax Ave', 'Viva Calle SJ',\n",
       "       'Jones St at Post St', 'Grove St at Masonic Ave',\n",
       "       'Myrtle St at Polk St', 'Hyde St at Post St',\n",
       "       'Potrero del Sol Park (25th St at Utah St)',\n",
       "       'Lombard St at Columbus Ave', 'Empire St at 7th St',\n",
       "       '20th St at Dolores St', 'Fell St at Stanyan St', 'Guerrero Park',\n",
       "       'Williams Ave at 3rd St', 'Farnam St at Fruitvale Ave'],\n",
       "      dtype=object)"
      ]
     },
     "execution_count": 16,
     "metadata": {},
     "output_type": "execute_result"
    }
   ],
   "source": [
    "df['start_station_name'].unique()\n"
   ]
  },
  {
   "cell_type": "code",
   "execution_count": 17,
   "metadata": {},
   "outputs": [
    {
     "data": {
      "text/plain": [
       "array(['San Francisco Public Library (Grove St at Hyde St)',\n",
       "       'Dolores St at 15th St', 'Downtown Berkeley BART',\n",
       "       'Powell St BART Station (Market St at 5th St)',\n",
       "       'Fulton St at Bancroft Way',\n",
       "       'San Francisco Caltrain (Townsend St at 4th St)',\n",
       "       'Addison St at Fourth St',\n",
       "       'Yerba Buena Center for the Arts (Howard St at 3rd St)',\n",
       "       'Mechanics Monument Plaza (Market St at Bush St)',\n",
       "       'Howard St at Beale St', 'Spear St at Folsom St',\n",
       "       'The Embarcadero at Steuart St', 'Beale St at Harrison St',\n",
       "       'San Francisco Ferry Building (Harry Bridges Plaza)',\n",
       "       'Folsom St at 19th St', '5th St at Virginia St',\n",
       "       'The Embarcadero at Sansome St', 'Folsom St at 15th St',\n",
       "       'Clay St at Battery St', 'Davis St at Jackson St',\n",
       "       '14th St at Mandela Pkwy', 'Market St at Dolores St',\n",
       "       'Santa Clara St at Almaden Blvd', 'Bay Pl at Vernon St',\n",
       "       'Victoria Manalo Draves Park', 'Steuart St at Market St',\n",
       "       'The Embarcadero at Vallejo St', 'Mission Dolores Park',\n",
       "       'Valencia St at 24th St', 'College Ave at Taft Ave',\n",
       "       'Montgomery St BART Station (Market St at 2nd St)',\n",
       "       'Valencia St at 22nd St', 'Koshland Park',\n",
       "       '30th St at San Jose Ave', 'Jersey St at Castro St',\n",
       "       '24th St at Market St', '3rd St at Townsend St',\n",
       "       '20th St at Bryant St', 'Valencia St at Cesar Chavez St',\n",
       "       'McCoppin St at Valencia St',\n",
       "       'Powell St BART Station (Market St at 4th St)',\n",
       "       'Berry St at 4th St', 'Frank H Ogawa Plaza',\n",
       "       'Lake Merritt BART Station', '7th St at Brannan St',\n",
       "       'Lakeshore Ave at Trestle Glen Rd', 'Golden Gate Ave at Polk St',\n",
       "       'McAllister St at Baker St', '19th St at Mission St',\n",
       "       '2nd St at Folsom St', '11th St at Bryant St', 'Cahill Park',\n",
       "       'MLK Jr Way at 14th St', '14th St at Mission St',\n",
       "       'The Embarcadero at Bryant St',\n",
       "       'San Francisco City Hall (Polk St at Grove St)',\n",
       "       'El Embarcadero at Grand Ave', 'Shattuck Ave at Hearst Ave',\n",
       "       'Embarcadero BART Station (Beale St at Market St)',\n",
       "       'Morrison Ave at Julian St',\n",
       "       'Garfield Square (25th St at Harrison St)', '11th St at Natoma St',\n",
       "       'Esprit Park', 'Derby St at College Ave',\n",
       "       'West Oakland BART Station', 'Washington St at 8th St',\n",
       "       'Mission Playground', 'Snow Park',\n",
       "       'Father Alfred E Boeddeker Park', '19th Street BART Station',\n",
       "       '2nd St at S Park St', 'Eureka Valley Recreation Center',\n",
       "       '2nd Ave at E 18th St', 'University Ave at Oxford St',\n",
       "       'Jackson Playground', \"O'Farrell St at Divisadero St\",\n",
       "       '45th St at Manila', \"Webster St at O'Farrell St\",\n",
       "       'Howard St at 8th St', '21st Ave at International Blvd',\n",
       "       'San Salvador St at 1st St', 'Post St at Kearny St',\n",
       "       'Central Ave at Fell St', '19th St at Florida St', 'SAP Center',\n",
       "       '18th St at Noe St', 'Telegraph Ave at 19th St',\n",
       "       'The Alameda at Bush St', 'Telegraph Ave at Ashby Ave',\n",
       "       'Telegraph Ave at Carleton St', 'San Salvador St at 9th St',\n",
       "       'Page St at Scott St', 'Commercial St at Montgomery St',\n",
       "       '29th St at Church St', 'Golden Gate Ave at Hyde St',\n",
       "       '5th St at Howard St', '4th St at Mission Bay Blvd S',\n",
       "       'Laguna St at Hayes St', 'S Van Ness Ave at Market St',\n",
       "       'Civic Center/UN Plaza BART Station (Market St at McAllister St)',\n",
       "       'Scott St at Golden Gate Ave',\n",
       "       'Union Square (Powell St at Post St)', 'MacArthur BART Station',\n",
       "       'Lakeside Dr at 14th St', 'Townsend St at 7th St',\n",
       "       '16th St Mission BART Station 2', 'Locust St at Grant St',\n",
       "       'Genoa St at 55th St', 'Telegraph Ave at Alcatraz Ave',\n",
       "       'Market St at 10th St', 'San Fernando St at 4th St',\n",
       "       'Market St at Franklin St', 'Shattuck Ave at 55th Ave',\n",
       "       'Division St at Potrero Ave', 'Mississippi St at 17th St',\n",
       "       'Washington St at Kearny St', 'Valencia St at 16th St',\n",
       "       '12th St at 4th Ave', 'Harrison St at 17th St',\n",
       "       'Rhode Island St at 17th St', 'Russell St at College Ave',\n",
       "       'Berkeley Civic Center', 'Folsom St at 3rd St',\n",
       "       'San Carlos St at Market St', '65th St at Hollis St',\n",
       "       'Paseo De San Antonio at 2nd St', '17th St at Valencia St',\n",
       "       'Union St at 10th St', 'Bryant St at 15th St',\n",
       "       'Sanchez St at 15th St', 'Vine St at Shattuck Ave',\n",
       "       '5th St at Brannan St', 'Bancroft Way at Telegraph Ave',\n",
       "       '45th St at MLK Jr Way', 'Webster St at 19th St',\n",
       "       '29th St at Tiffany Ave',\n",
       "       'San Francisco Caltrain Station 2  (Townsend St at 4th St)',\n",
       "       '14th St at Filbert St', 'Cyril Magnin St at Ellis St',\n",
       "       '22nd St Caltrain Station', '8th St at Ringold St',\n",
       "       '5th at Folsom', 'Church St at Duboce Ave',\n",
       "       'Franklin St at 9th St', 'Webster St at Grove St',\n",
       "       'Willow St at Vine St', 'Grand Ave at Perkins St',\n",
       "       'Townsend St at 5th St', 'Broadway at 30th St',\n",
       "       'Broadway at Kearny', '1st St at Folsom St',\n",
       "       'Laguna St at McAllister St', '16th St at Prosper St',\n",
       "       '4th St at Harrison St', 'MLK Jr Way at University Ave',\n",
       "       'San Carlos St at 11th St', 'Fruitvale BART Station',\n",
       "       'Pierce Ave at Market St', 'Broadway at 40th St',\n",
       "       'Shattuck Ave at Telegraph Ave', '49th St at Telegraph Ave',\n",
       "       '16th St Mission BART', 'Horton St at 40th St',\n",
       "       'Grand Ave at Santa Clara Ave', 'Grove St at Divisadero',\n",
       "       'Adeline St at 40th St', 'S Park St at 3rd St',\n",
       "       'Stanford Ave at Hollis St', 'Howard St at 2nd St',\n",
       "       'College Ave at Harwood Ave', 'Channing Way at San Pablo Ave',\n",
       "       'Precita Park', 'Dover St at 57th St',\n",
       "       '17th & Folsom Street Park (17th St at Folsom St)',\n",
       "       '47th St at San Pablo Ave', 'Ninth St at Heinz Ave',\n",
       "       'Telegraph Ave at 23rd St', 'Valencia St at 21st St',\n",
       "       'Folsom St at 9th St', 'Grand Ave at Webster St',\n",
       "       'Broadway at Battery St', 'Harrison St at 20th St',\n",
       "       '17th St at Dolores St', 'San Antonio Park',\n",
       "       'Market St at 40th St', 'Santa Clara St at 7th St',\n",
       "       '12th St at 6th Ave', 'North Berkeley BART Station',\n",
       "       'Parker St at Fulton St', '59th St at Horton St',\n",
       "       'Autumn Parkway at Coleman Ave', 'Telegraph Ave at 58th St',\n",
       "       'Broderick St at Oak St', 'Market St at Park St',\n",
       "       '37th St at West St', '24th St at Chattanooga St',\n",
       "       'Raymond Kimbell Playground', 'Sanchez St at 17th St',\n",
       "       'West St at 40th St', 'Shattuck Ave at 51st St',\n",
       "       'Bryant St at 6th St', '9th St at San Fernando',\n",
       "       '32nd St at Adeline St', 'California St at University Ave',\n",
       "       '5th St at San Salvador St', 'Ashby BART Station',\n",
       "       'Franklin Square', 'Emeryville Town Hall',\n",
       "       'Oregon St at Adeline St', 'Irwin St at 8th St',\n",
       "       'Foothill Blvd at Fruitvale Ave', 'S. 4th St at San Carlos St',\n",
       "       'San Bruno Ave at 16th St', 'San Pablo Ave at 27th St',\n",
       "       'Isabella St at San Pablo Ave', 'Market St at Brockhurst St',\n",
       "       '10th Ave at E 15th St', 'San Pedro Square',\n",
       "       'San Jose Diridon Station', '10th St at Fallon St',\n",
       "       'Julian St at The Alameda', 'Jackson St at 5th St',\n",
       "       '26th Ave at International Blvd', 'Duboce Park',\n",
       "       'Jackson St at 11th St', 'Telegraph Ave at 27th St',\n",
       "       'Broadway at Coronado Ave', '34th St at Telegraph Ave',\n",
       "       'Bushrod Park', 'Bancroft Way at College Ave',\n",
       "       'Harmon St at Adeline St', 'Jersey St at Church St',\n",
       "       'San Fernando at 7th St', 'Julian St at 6th St',\n",
       "       'Shafter Ave at Cavour St', 'San Pablo Ave at MLK Jr Way',\n",
       "       'Bestor Art Park', 'William St at 10th St', 'DeFremery Park',\n",
       "       'Saint James Park', 'Haste St at Telegraph Ave', 'Ryland Park',\n",
       "       '53rd St at Hollis St', 'Mosswood Park',\n",
       "       'W St John St at Guadalupe River Trail',\n",
       "       'MacArthur Blvd at Telegraph Ave', '13th St at Franklin St',\n",
       "       '55th St at Telegraph Ave', 'Almaden Blvd at Balbach St',\n",
       "       'Mission St at 1st St', 'Fruitvale Ave at International Blvd',\n",
       "       'Doyle St at 59th St', 'Almaden Blvd at San Fernando St',\n",
       "       'Ninth St at Parker St', 'San Jose City Hall',\n",
       "       'Marston Campbell Park', 'Palm St at Willow St',\n",
       "       'College Ave at Bryant Ave', 'Cesar Chavez St at Dolores St',\n",
       "       'Ellsworth St at Russell St', '5th St at Taylor St',\n",
       "       'George St at 1st St', 'Foothill Blvd at Harrington Ave',\n",
       "       'Delmas Ave and San Fernando St', 'Empire St at 1st St',\n",
       "       'Market St at 8th St', 'Foothill Blvd at 42nd Ave',\n",
       "       '2nd St at Townsend St - Coming Soon', 'Webster St at 17th St',\n",
       "       'Franklin St at 14th St', 'Jackson St at 14th St',\n",
       "       'Dolores St at 22nd St', 'Rockridge BART Station',\n",
       "       'Potrero Ave and Mariposa St', '23rd Ave at Foothill Blvd',\n",
       "       'Colin P Kelly Jr St at Townsend St (Temporary Site)',\n",
       "       'Fountain Alley at S 2nd St', 'College Ave at Alcatraz Ave',\n",
       "       'Woolsey St at Sacramento St', 'Hearst Ave at Euclid Ave',\n",
       "       '27th St at MLK Jr Way', 'Oak St at 1st St',\n",
       "       'Pierce St at Haight St', 'Milvia St at Derby St',\n",
       "       'Market St at 45th St', 'Emeryville Public Market',\n",
       "       'Jack London Square', 'Webster St at 2nd St',\n",
       "       'Channing Way at Shattuck Ave', 'Bryant St at 2nd St',\n",
       "       'Alcatraz Ave at Shattuck Ave', 'Virginia St at Shattuck Ave',\n",
       "       'San Pedro St at Hedding St', 'Fulton St at Ashby Ave',\n",
       "       'Tamien Station', '2nd St at Townsend St', 'Hubbell St at 16th St',\n",
       "       'San Pablo Park', '16th St Depot', '8th St at Brannan St',\n",
       "       'Howard St at Mary St', 'Valencia St at Clinton Park', nan,\n",
       "       'Haste St at College Ave', 'Mission Bay Kids Park',\n",
       "       'Shattuck Ave at 55th St', 'Folsom St at 13th St',\n",
       "       'Berry St at King St', '4th St at 16th St',\n",
       "       '23rd St at Tennessee St', 'Fifth St at Delaware St',\n",
       "       'West St at University Ave', '10th St at University Ave',\n",
       "       '23rd St and San Bruno Ave', '2nd St at Julian St',\n",
       "       'Miles Ave at Cavour St (Temporary Location)', '5th St at Folsom',\n",
       "       'E 12th St at 6th Ave',\n",
       "       'William St at 4th St (Temporary Location)',\n",
       "       'MLK Jr Way at 36th St (Temporary Location)',\n",
       "       'Salesforce Transit Center (Natoma St at 2nd St)',\n",
       "       '6th St at San Fernando St (Temporary Location)',\n",
       "       'Mission Rock St at 3rd St',\n",
       "       'Potrero Ave at 15th St (Temporary Location)',\n",
       "       'E 12th St at 4th Ave', 'Turk St at Fillmore St',\n",
       "       'Outside Lands 2018 (Temporary Station)', 'Miles Ave at Cavour St',\n",
       "       '6th Ave at E 12th St (Temporary Location)',\n",
       "       'Lane St at Revere Ave', 'Madison St at 17th St',\n",
       "       '23rd St at San Bruno Ave',\n",
       "       '4th Ave at E 12th St (Temporary Location)',\n",
       "       '9th St at San Fernando St', 'Williams Ave at Apollo St',\n",
       "       'Lane St at Van Dyke Ave',\n",
       "       'Webster St at MacArthur Blvd (Temporary Location)',\n",
       "       'Newhall St at 3rd St', 'Mendell St at Fairfax Ave',\n",
       "       'Viva Calle SJ', 'Myrtle St at Polk St', 'Grove St at Masonic Ave',\n",
       "       'Hyde St at Post St', 'Lombard St at Columbus Ave',\n",
       "       'Potrero del Sol Park (25th St at Utah St)', 'Jones St at Post St',\n",
       "       'Empire St at 7th St', '20th St at Dolores St',\n",
       "       'Fell St at Stanyan St', 'Guerrero Park', 'Williams Ave at 3rd St',\n",
       "       'Farnam St at Fruitvale Ave'], dtype=object)"
      ]
     },
     "execution_count": 17,
     "metadata": {},
     "output_type": "execute_result"
    }
   ],
   "source": [
    "df['end_station_name'].unique()\n"
   ]
  },
  {
   "cell_type": "markdown",
   "metadata": {},
   "source": [
    " - the next step Extract month and year from the date column and put the values into new columns"
   ]
  },
  {
   "cell_type": "code",
   "execution_count": 4,
   "metadata": {},
   "outputs": [
    {
     "data": {
      "text/html": [
       "<div>\n",
       "<style scoped>\n",
       "    .dataframe tbody tr th:only-of-type {\n",
       "        vertical-align: middle;\n",
       "    }\n",
       "\n",
       "    .dataframe tbody tr th {\n",
       "        vertical-align: top;\n",
       "    }\n",
       "\n",
       "    .dataframe thead th {\n",
       "        text-align: right;\n",
       "    }\n",
       "</style>\n",
       "<table border=\"1\" class=\"dataframe\">\n",
       "  <thead>\n",
       "    <tr style=\"text-align: right;\">\n",
       "      <th></th>\n",
       "      <th>Unnamed: 0</th>\n",
       "      <th>Unnamed: 0.1</th>\n",
       "      <th>duration_sec</th>\n",
       "      <th>start_time</th>\n",
       "      <th>end_time</th>\n",
       "      <th>start_station_id</th>\n",
       "      <th>start_station_name</th>\n",
       "      <th>start_station_latitude</th>\n",
       "      <th>start_station_longitude</th>\n",
       "      <th>end_station_id</th>\n",
       "      <th>...</th>\n",
       "      <th>end_station_latitude</th>\n",
       "      <th>end_station_longitude</th>\n",
       "      <th>bike_id</th>\n",
       "      <th>user_type</th>\n",
       "      <th>member_birth_year</th>\n",
       "      <th>member_gender</th>\n",
       "      <th>bike_share_for_all_trip</th>\n",
       "      <th>members_age</th>\n",
       "      <th>start_year</th>\n",
       "      <th>start_month</th>\n",
       "    </tr>\n",
       "  </thead>\n",
       "  <tbody>\n",
       "    <tr>\n",
       "      <th>0</th>\n",
       "      <td>0</td>\n",
       "      <td>0.0</td>\n",
       "      <td>80110</td>\n",
       "      <td>2017-12-31 16:57:39.6540</td>\n",
       "      <td>2018-01-01 15:12:50.2450</td>\n",
       "      <td>74.0</td>\n",
       "      <td>Laguna St at Hayes St</td>\n",
       "      <td>37.776435</td>\n",
       "      <td>-122.426244</td>\n",
       "      <td>43.0</td>\n",
       "      <td>...</td>\n",
       "      <td>37.778768</td>\n",
       "      <td>-122.415929</td>\n",
       "      <td>96</td>\n",
       "      <td>Customer</td>\n",
       "      <td>1987.0</td>\n",
       "      <td>Male</td>\n",
       "      <td>NaN</td>\n",
       "      <td>33.0</td>\n",
       "      <td>2017</td>\n",
       "      <td>12</td>\n",
       "    </tr>\n",
       "    <tr>\n",
       "      <th>1</th>\n",
       "      <td>1</td>\n",
       "      <td>1.0</td>\n",
       "      <td>78800</td>\n",
       "      <td>2017-12-31 15:56:34.8420</td>\n",
       "      <td>2018-01-01 13:49:55.6170</td>\n",
       "      <td>284.0</td>\n",
       "      <td>Yerba Buena Center for the Arts (Howard St at ...</td>\n",
       "      <td>37.784872</td>\n",
       "      <td>-122.400876</td>\n",
       "      <td>96.0</td>\n",
       "      <td>...</td>\n",
       "      <td>37.766210</td>\n",
       "      <td>-122.426614</td>\n",
       "      <td>88</td>\n",
       "      <td>Customer</td>\n",
       "      <td>1965.0</td>\n",
       "      <td>Female</td>\n",
       "      <td>NaN</td>\n",
       "      <td>55.0</td>\n",
       "      <td>2017</td>\n",
       "      <td>12</td>\n",
       "    </tr>\n",
       "    <tr>\n",
       "      <th>2</th>\n",
       "      <td>2</td>\n",
       "      <td>2.0</td>\n",
       "      <td>45768</td>\n",
       "      <td>2017-12-31 22:45:48.4110</td>\n",
       "      <td>2018-01-01 11:28:36.8830</td>\n",
       "      <td>245.0</td>\n",
       "      <td>Downtown Berkeley BART</td>\n",
       "      <td>37.870348</td>\n",
       "      <td>-122.267764</td>\n",
       "      <td>245.0</td>\n",
       "      <td>...</td>\n",
       "      <td>37.870348</td>\n",
       "      <td>-122.267764</td>\n",
       "      <td>1094</td>\n",
       "      <td>Customer</td>\n",
       "      <td>NaN</td>\n",
       "      <td>NaN</td>\n",
       "      <td>NaN</td>\n",
       "      <td>NaN</td>\n",
       "      <td>2017</td>\n",
       "      <td>12</td>\n",
       "    </tr>\n",
       "    <tr>\n",
       "      <th>3</th>\n",
       "      <td>3</td>\n",
       "      <td>3.0</td>\n",
       "      <td>62172</td>\n",
       "      <td>2017-12-31 17:31:10.6360</td>\n",
       "      <td>2018-01-01 10:47:23.5310</td>\n",
       "      <td>60.0</td>\n",
       "      <td>8th St at Ringold St</td>\n",
       "      <td>37.774520</td>\n",
       "      <td>-122.409449</td>\n",
       "      <td>5.0</td>\n",
       "      <td>...</td>\n",
       "      <td>37.783899</td>\n",
       "      <td>-122.408445</td>\n",
       "      <td>2831</td>\n",
       "      <td>Customer</td>\n",
       "      <td>NaN</td>\n",
       "      <td>NaN</td>\n",
       "      <td>NaN</td>\n",
       "      <td>NaN</td>\n",
       "      <td>2017</td>\n",
       "      <td>12</td>\n",
       "    </tr>\n",
       "    <tr>\n",
       "      <th>4</th>\n",
       "      <td>4</td>\n",
       "      <td>4.0</td>\n",
       "      <td>43603</td>\n",
       "      <td>2017-12-31 14:23:14.0010</td>\n",
       "      <td>2018-01-01 02:29:57.5710</td>\n",
       "      <td>239.0</td>\n",
       "      <td>Bancroft Way at Telegraph Ave</td>\n",
       "      <td>37.868813</td>\n",
       "      <td>-122.258764</td>\n",
       "      <td>247.0</td>\n",
       "      <td>...</td>\n",
       "      <td>37.867789</td>\n",
       "      <td>-122.265896</td>\n",
       "      <td>3167</td>\n",
       "      <td>Subscriber</td>\n",
       "      <td>1997.0</td>\n",
       "      <td>Female</td>\n",
       "      <td>NaN</td>\n",
       "      <td>23.0</td>\n",
       "      <td>2017</td>\n",
       "      <td>12</td>\n",
       "    </tr>\n",
       "  </tbody>\n",
       "</table>\n",
       "<p>5 rows × 21 columns</p>\n",
       "</div>"
      ],
      "text/plain": [
       "   Unnamed: 0  Unnamed: 0.1  duration_sec                start_time  \\\n",
       "0           0           0.0         80110  2017-12-31 16:57:39.6540   \n",
       "1           1           1.0         78800  2017-12-31 15:56:34.8420   \n",
       "2           2           2.0         45768  2017-12-31 22:45:48.4110   \n",
       "3           3           3.0         62172  2017-12-31 17:31:10.6360   \n",
       "4           4           4.0         43603  2017-12-31 14:23:14.0010   \n",
       "\n",
       "                   end_time  start_station_id  \\\n",
       "0  2018-01-01 15:12:50.2450              74.0   \n",
       "1  2018-01-01 13:49:55.6170             284.0   \n",
       "2  2018-01-01 11:28:36.8830             245.0   \n",
       "3  2018-01-01 10:47:23.5310              60.0   \n",
       "4  2018-01-01 02:29:57.5710             239.0   \n",
       "\n",
       "                                  start_station_name  start_station_latitude  \\\n",
       "0                              Laguna St at Hayes St               37.776435   \n",
       "1  Yerba Buena Center for the Arts (Howard St at ...               37.784872   \n",
       "2                             Downtown Berkeley BART               37.870348   \n",
       "3                               8th St at Ringold St               37.774520   \n",
       "4                      Bancroft Way at Telegraph Ave               37.868813   \n",
       "\n",
       "   start_station_longitude  end_station_id  ... end_station_latitude  \\\n",
       "0              -122.426244            43.0  ...            37.778768   \n",
       "1              -122.400876            96.0  ...            37.766210   \n",
       "2              -122.267764           245.0  ...            37.870348   \n",
       "3              -122.409449             5.0  ...            37.783899   \n",
       "4              -122.258764           247.0  ...            37.867789   \n",
       "\n",
       "   end_station_longitude  bike_id   user_type member_birth_year  \\\n",
       "0            -122.415929       96    Customer            1987.0   \n",
       "1            -122.426614       88    Customer            1965.0   \n",
       "2            -122.267764     1094    Customer               NaN   \n",
       "3            -122.408445     2831    Customer               NaN   \n",
       "4            -122.265896     3167  Subscriber            1997.0   \n",
       "\n",
       "   member_gender bike_share_for_all_trip members_age  start_year  start_month  \n",
       "0           Male                     NaN        33.0        2017           12  \n",
       "1         Female                     NaN        55.0        2017           12  \n",
       "2            NaN                     NaN         NaN        2017           12  \n",
       "3            NaN                     NaN         NaN        2017           12  \n",
       "4         Female                     NaN        23.0        2017           12  \n",
       "\n",
       "[5 rows x 21 columns]"
      ]
     },
     "execution_count": 4,
     "metadata": {},
     "output_type": "execute_result"
    }
   ],
   "source": [
    "import datetime\n",
    "df['start_year'] = pd.DatetimeIndex(df['start_time']).year\n",
    "df['start_month'] = pd.DatetimeIndex(df['start_time']).month\n",
    "\n",
    "df.head()"
   ]
  },
  {
   "cell_type": "code",
   "execution_count": 5,
   "metadata": {},
   "outputs": [
    {
     "data": {
      "text/html": [
       "<div>\n",
       "<style scoped>\n",
       "    .dataframe tbody tr th:only-of-type {\n",
       "        vertical-align: middle;\n",
       "    }\n",
       "\n",
       "    .dataframe tbody tr th {\n",
       "        vertical-align: top;\n",
       "    }\n",
       "\n",
       "    .dataframe thead th {\n",
       "        text-align: right;\n",
       "    }\n",
       "</style>\n",
       "<table border=\"1\" class=\"dataframe\">\n",
       "  <thead>\n",
       "    <tr style=\"text-align: right;\">\n",
       "      <th></th>\n",
       "      <th>Unnamed: 0</th>\n",
       "      <th>Unnamed: 0.1</th>\n",
       "      <th>duration_sec</th>\n",
       "      <th>start_time</th>\n",
       "      <th>end_time</th>\n",
       "      <th>start_station_id</th>\n",
       "      <th>start_station_name</th>\n",
       "      <th>start_station_latitude</th>\n",
       "      <th>start_station_longitude</th>\n",
       "      <th>end_station_id</th>\n",
       "      <th>...</th>\n",
       "      <th>bike_id</th>\n",
       "      <th>user_type</th>\n",
       "      <th>member_birth_year</th>\n",
       "      <th>member_gender</th>\n",
       "      <th>bike_share_for_all_trip</th>\n",
       "      <th>members_age</th>\n",
       "      <th>start_year</th>\n",
       "      <th>start_month</th>\n",
       "      <th>end_year</th>\n",
       "      <th>end_month</th>\n",
       "    </tr>\n",
       "  </thead>\n",
       "  <tbody>\n",
       "    <tr>\n",
       "      <th>0</th>\n",
       "      <td>0</td>\n",
       "      <td>0.0</td>\n",
       "      <td>80110</td>\n",
       "      <td>2017-12-31 16:57:39.6540</td>\n",
       "      <td>2018-01-01 15:12:50.2450</td>\n",
       "      <td>74.0</td>\n",
       "      <td>Laguna St at Hayes St</td>\n",
       "      <td>37.776435</td>\n",
       "      <td>-122.426244</td>\n",
       "      <td>43.0</td>\n",
       "      <td>...</td>\n",
       "      <td>96</td>\n",
       "      <td>Customer</td>\n",
       "      <td>1987.0</td>\n",
       "      <td>Male</td>\n",
       "      <td>NaN</td>\n",
       "      <td>33.0</td>\n",
       "      <td>2017</td>\n",
       "      <td>12</td>\n",
       "      <td>2018</td>\n",
       "      <td>1</td>\n",
       "    </tr>\n",
       "    <tr>\n",
       "      <th>1</th>\n",
       "      <td>1</td>\n",
       "      <td>1.0</td>\n",
       "      <td>78800</td>\n",
       "      <td>2017-12-31 15:56:34.8420</td>\n",
       "      <td>2018-01-01 13:49:55.6170</td>\n",
       "      <td>284.0</td>\n",
       "      <td>Yerba Buena Center for the Arts (Howard St at ...</td>\n",
       "      <td>37.784872</td>\n",
       "      <td>-122.400876</td>\n",
       "      <td>96.0</td>\n",
       "      <td>...</td>\n",
       "      <td>88</td>\n",
       "      <td>Customer</td>\n",
       "      <td>1965.0</td>\n",
       "      <td>Female</td>\n",
       "      <td>NaN</td>\n",
       "      <td>55.0</td>\n",
       "      <td>2017</td>\n",
       "      <td>12</td>\n",
       "      <td>2018</td>\n",
       "      <td>1</td>\n",
       "    </tr>\n",
       "    <tr>\n",
       "      <th>2</th>\n",
       "      <td>2</td>\n",
       "      <td>2.0</td>\n",
       "      <td>45768</td>\n",
       "      <td>2017-12-31 22:45:48.4110</td>\n",
       "      <td>2018-01-01 11:28:36.8830</td>\n",
       "      <td>245.0</td>\n",
       "      <td>Downtown Berkeley BART</td>\n",
       "      <td>37.870348</td>\n",
       "      <td>-122.267764</td>\n",
       "      <td>245.0</td>\n",
       "      <td>...</td>\n",
       "      <td>1094</td>\n",
       "      <td>Customer</td>\n",
       "      <td>NaN</td>\n",
       "      <td>NaN</td>\n",
       "      <td>NaN</td>\n",
       "      <td>NaN</td>\n",
       "      <td>2017</td>\n",
       "      <td>12</td>\n",
       "      <td>2018</td>\n",
       "      <td>1</td>\n",
       "    </tr>\n",
       "    <tr>\n",
       "      <th>3</th>\n",
       "      <td>3</td>\n",
       "      <td>3.0</td>\n",
       "      <td>62172</td>\n",
       "      <td>2017-12-31 17:31:10.6360</td>\n",
       "      <td>2018-01-01 10:47:23.5310</td>\n",
       "      <td>60.0</td>\n",
       "      <td>8th St at Ringold St</td>\n",
       "      <td>37.774520</td>\n",
       "      <td>-122.409449</td>\n",
       "      <td>5.0</td>\n",
       "      <td>...</td>\n",
       "      <td>2831</td>\n",
       "      <td>Customer</td>\n",
       "      <td>NaN</td>\n",
       "      <td>NaN</td>\n",
       "      <td>NaN</td>\n",
       "      <td>NaN</td>\n",
       "      <td>2017</td>\n",
       "      <td>12</td>\n",
       "      <td>2018</td>\n",
       "      <td>1</td>\n",
       "    </tr>\n",
       "    <tr>\n",
       "      <th>4</th>\n",
       "      <td>4</td>\n",
       "      <td>4.0</td>\n",
       "      <td>43603</td>\n",
       "      <td>2017-12-31 14:23:14.0010</td>\n",
       "      <td>2018-01-01 02:29:57.5710</td>\n",
       "      <td>239.0</td>\n",
       "      <td>Bancroft Way at Telegraph Ave</td>\n",
       "      <td>37.868813</td>\n",
       "      <td>-122.258764</td>\n",
       "      <td>247.0</td>\n",
       "      <td>...</td>\n",
       "      <td>3167</td>\n",
       "      <td>Subscriber</td>\n",
       "      <td>1997.0</td>\n",
       "      <td>Female</td>\n",
       "      <td>NaN</td>\n",
       "      <td>23.0</td>\n",
       "      <td>2017</td>\n",
       "      <td>12</td>\n",
       "      <td>2018</td>\n",
       "      <td>1</td>\n",
       "    </tr>\n",
       "  </tbody>\n",
       "</table>\n",
       "<p>5 rows × 23 columns</p>\n",
       "</div>"
      ],
      "text/plain": [
       "   Unnamed: 0  Unnamed: 0.1  duration_sec                start_time  \\\n",
       "0           0           0.0         80110  2017-12-31 16:57:39.6540   \n",
       "1           1           1.0         78800  2017-12-31 15:56:34.8420   \n",
       "2           2           2.0         45768  2017-12-31 22:45:48.4110   \n",
       "3           3           3.0         62172  2017-12-31 17:31:10.6360   \n",
       "4           4           4.0         43603  2017-12-31 14:23:14.0010   \n",
       "\n",
       "                   end_time  start_station_id  \\\n",
       "0  2018-01-01 15:12:50.2450              74.0   \n",
       "1  2018-01-01 13:49:55.6170             284.0   \n",
       "2  2018-01-01 11:28:36.8830             245.0   \n",
       "3  2018-01-01 10:47:23.5310              60.0   \n",
       "4  2018-01-01 02:29:57.5710             239.0   \n",
       "\n",
       "                                  start_station_name  start_station_latitude  \\\n",
       "0                              Laguna St at Hayes St               37.776435   \n",
       "1  Yerba Buena Center for the Arts (Howard St at ...               37.784872   \n",
       "2                             Downtown Berkeley BART               37.870348   \n",
       "3                               8th St at Ringold St               37.774520   \n",
       "4                      Bancroft Way at Telegraph Ave               37.868813   \n",
       "\n",
       "   start_station_longitude  end_station_id  ... bike_id   user_type  \\\n",
       "0              -122.426244            43.0  ...      96    Customer   \n",
       "1              -122.400876            96.0  ...      88    Customer   \n",
       "2              -122.267764           245.0  ...    1094    Customer   \n",
       "3              -122.409449             5.0  ...    2831    Customer   \n",
       "4              -122.258764           247.0  ...    3167  Subscriber   \n",
       "\n",
       "   member_birth_year  member_gender bike_share_for_all_trip  members_age  \\\n",
       "0             1987.0           Male                     NaN         33.0   \n",
       "1             1965.0         Female                     NaN         55.0   \n",
       "2                NaN            NaN                     NaN          NaN   \n",
       "3                NaN            NaN                     NaN          NaN   \n",
       "4             1997.0         Female                     NaN         23.0   \n",
       "\n",
       "  start_year start_month  end_year  end_month  \n",
       "0       2017          12      2018          1  \n",
       "1       2017          12      2018          1  \n",
       "2       2017          12      2018          1  \n",
       "3       2017          12      2018          1  \n",
       "4       2017          12      2018          1  \n",
       "\n",
       "[5 rows x 23 columns]"
      ]
     },
     "execution_count": 5,
     "metadata": {},
     "output_type": "execute_result"
    }
   ],
   "source": [
    "import datetime\n",
    "df['end_year'] = pd.DatetimeIndex(df['end_time']).year\n",
    "df['end_month'] = pd.DatetimeIndex(df['end_time']).month\n",
    "\n",
    "df.head()"
   ]
  },
  {
   "cell_type": "markdown",
   "metadata": {},
   "source": [
    "step 3 ) Explore the dataset using visualizations \n",
    "- univariate exploration"
   ]
  },
  {
   "cell_type": "markdown",
   "metadata": {},
   "source": [
    "- using Bar Chart to show the freq of user_type "
   ]
  },
  {
   "cell_type": "code",
   "execution_count": 21,
   "metadata": {},
   "outputs": [
    {
     "data": {
      "text/plain": [
       "<matplotlib.axes._subplots.AxesSubplot at 0x1fe8e6655c8>"
      ]
     },
     "execution_count": 21,
     "metadata": {},
     "output_type": "execute_result"
    },
    {
     "data": {
      "image/png": "[encoded data removed]",
      "text/plain": [
       "<Figure size 432x288 with 1 Axes>"
      ]
     },
     "metadata": {
      "needs_background": "light"
     },
     "output_type": "display_data"
    }
   ],
   "source": [
    "import seaborn as sb\n",
    "sb.countplot(data = df, x = 'user_type')\n"
   ]
  },
  {
   "cell_type": "code",
   "execution_count": 23,
   "metadata": {},
   "outputs": [
    {
     "data": {
      "text/plain": [
       "Subscriber    1878472\n",
       "Customer       373586\n",
       "Name: user_type, dtype: int64"
      ]
     },
     "execution_count": 23,
     "metadata": {},
     "output_type": "execute_result"
    },
    {
     "data": {
      "image/png": "[encoded data removed]",
      "text/plain": [
       "<Figure size 432x288 with 1 Axes>"
      ]
     },
     "metadata": {
      "needs_background": "light"
     },
     "output_type": "display_data"
    }
   ],
   "source": [
    "import seaborn as sb\n",
    "sb.countplot(data = df, x = 'user_type')\n",
    "df.user_type.value_counts()\n",
    "\n"
   ]
  },
  {
   "cell_type": "markdown",
   "metadata": {},
   "source": [
    "As we've just seen, the subscriber type freq is higher than the customer type \n"
   ]
  },
  {
   "cell_type": "code",
   "execution_count": 24,
   "metadata": {},
   "outputs": [
    {
     "data": {
      "text/plain": [
       "<matplotlib.axes._subplots.AxesSubplot at 0x1fe8e7f2088>"
      ]
     },
     "execution_count": 24,
     "metadata": {},
     "output_type": "execute_result"
    },
    {
     "data": {
      "image/png": "[encoded data removed]",
      "text/plain": [
       "<Figure size 432x288 with 1 Axes>"
      ]
     },
     "metadata": {
      "needs_background": "light"
     },
     "output_type": "display_data"
    }
   ],
   "source": [
    "base_color = sb.color_palette()[0]\n",
    "member_gender = df['member_gender'].value_counts().index\n",
    "sb.countplot(data = df, x = 'member_gender', color = base_color, order = member_gender)"
   ]
  },
  {
   "cell_type": "code",
   "execution_count": 25,
   "metadata": {},
   "outputs": [
    {
     "data": {
      "text/plain": [
       "Male      1541528\n",
       "Female     507383\n",
       "Other       31329\n",
       "Name: member_gender, dtype: int64"
      ]
     },
     "execution_count": 25,
     "metadata": {},
     "output_type": "execute_result"
    }
   ],
   "source": [
    "df.member_gender.value_counts()"
   ]
  },
  {
   "cell_type": "markdown",
   "metadata": {},
   "source": [
    "As we've just seen, the male geneder freq is higher than the female and othertype \n",
    "Male      1541528\n",
    "Female     507383\n"
   ]
  },
  {
   "cell_type": "code",
   "execution_count": 27,
   "metadata": {},
   "outputs": [
    {
     "data": {
      "text/plain": [
       "<matplotlib.axes._subplots.AxesSubplot at 0x1fe8e857608>"
      ]
     },
     "execution_count": 27,
     "metadata": {},
     "output_type": "execute_result"
    },
    {
     "data": {
      "image/png": "[encoded data removed]",
      "text/plain": [
       "<Figure size 432x288 with 1 Axes>"
      ]
     },
     "metadata": {
      "needs_background": "light"
     },
     "output_type": "display_data"
    }
   ],
   "source": [
    "#bike_share_for_all_trip\n",
    "base_color = sb.color_palette()[0]\n",
    "bike_share_for_all_trip = df['bike_share_for_all_trip'].value_counts().index\n",
    "sb.countplot(data = df, x = 'bike_share_for_all_trip', color = base_color, order = bike_share_for_all_trip)"
   ]
  },
  {
   "cell_type": "markdown",
   "metadata": {},
   "source": [
    "As we've just seen, most of the times there is no bike share for all trip"
   ]
  },
  {
   "cell_type": "markdown",
   "metadata": {},
   "source": [
    "- visulaize the freq of the start and end months / years "
   ]
  },
  {
   "cell_type": "code",
   "execution_count": 28,
   "metadata": {},
   "outputs": [
    {
     "data": {
      "text/plain": [
       "<matplotlib.axes._subplots.AxesSubplot at 0x1fe8e8b7688>"
      ]
     },
     "execution_count": 28,
     "metadata": {},
     "output_type": "execute_result"
    },
    {
     "data": {
      "image/png": "[encoded data removed]",
      "text/plain": [
       "<Figure size 432x288 with 1 Axes>"
      ]
     },
     "metadata": {
      "needs_background": "light"
     },
     "output_type": "display_data"
    }
   ],
   "source": [
    "#sort the fre of each month to extract the most frequant months \n",
    "base_color = sb.color_palette()[0]\n",
    "start_month = df['start_month'].value_counts().index\n",
    "sb.countplot(data = df, x = 'start_month', color = base_color, order = start_month)"
   ]
  },
  {
   "cell_type": "code",
   "execution_count": 29,
   "metadata": {},
   "outputs": [
    {
     "data": {
      "text/plain": [
       "<matplotlib.axes._subplots.AxesSubplot at 0x1fe983d2808>"
      ]
     },
     "execution_count": 29,
     "metadata": {},
     "output_type": "execute_result"
    },
    {
     "data": {
      "image/png": "[encoded data removed]",
      "text/plain": [
       "<Figure size 432x288 with 1 Axes>"
      ]
     },
     "metadata": {
      "needs_background": "light"
     },
     "output_type": "display_data"
    }
   ],
   "source": [
    "base_color = sb.color_palette()[0]\n",
    "end_month = df['end_month'].value_counts().index\n",
    "sb.countplot(data = df, x = 'end_month', color = base_color, order = end_month)"
   ]
  },
  {
   "cell_type": "markdown",
   "metadata": {},
   "source": [
    "October is the most freq month and decemeber is the lowest "
   ]
  },
  {
   "cell_type": "code",
   "execution_count": 30,
   "metadata": {},
   "outputs": [
    {
     "data": {
      "text/plain": [
       "Text(0, 0.5, 'proportion')"
      ]
     },
     "execution_count": 30,
     "metadata": {},
     "output_type": "execute_result"
    },
    {
     "data": {
      "image/png": "[encoded data removed]",
      "text/plain": [
       "<Figure size 432x288 with 1 Axes>"
      ]
     },
     "metadata": {
      "needs_background": "light"
     },
     "output_type": "display_data"
    }
   ],
   "source": [
    "# get proportion taken by most common group for derivation\n",
    "n_points = df.shape[0]\n",
    "max_count = df['start_month'].value_counts().max()\n",
    "max_prop = max_count / n_points\n",
    "\n",
    "# generate tick mark locations and names\n",
    "tick_props = np.arange(0, max_prop, 0.05)\n",
    "tick_names = ['{:0.2f}'.format(v) for v in tick_props]\n",
    "\n",
    "# create the plot\n",
    "base_color = sb.color_palette()[0]\n",
    "sb.countplot(data = df, x = 'start_month', color = base_color)\n",
    "plt.yticks(tick_props * n_points, tick_names)\n",
    "plt.ylabel('proportion')"
   ]
  },
  {
   "cell_type": "code",
   "execution_count": 31,
   "metadata": {},
   "outputs": [
    {
     "name": "stdout",
     "output_type": "stream",
     "text": [
      "<class 'pandas.core.frame.DataFrame'>\n",
      "RangeIndex: 2252058 entries, 0 to 2252057\n",
      "Data columns (total 24 columns):\n",
      " #   Column                   Dtype  \n",
      "---  ------                   -----  \n",
      " 0   Unnamed: 0               int64  \n",
      " 1   Unnamed: 0.1             float64\n",
      " 2   duration_sec             int64  \n",
      " 3   start_time               object \n",
      " 4   end_time                 object \n",
      " 5   start_station_id         float64\n",
      " 6   start_station_name       object \n",
      " 7   start_station_latitude   float64\n",
      " 8   start_station_longitude  float64\n",
      " 9   end_station_id           float64\n",
      " 10  end_station_name         object \n",
      " 11  end_station_latitude     float64\n",
      " 12  end_station_longitude    float64\n",
      " 13  bike_id                  int64  \n",
      " 14  user_type                object \n",
      " 15  member_birth_year        float64\n",
      " 16  member_gender            object \n",
      " 17  bike_share_for_all_trip  object \n",
      " 18  member_age               float64\n",
      " 19  members_age              float64\n",
      " 20  start_year               int64  \n",
      " 21  start_month              int64  \n",
      " 22  end_year                 int64  \n",
      " 23  end_month                int64  \n",
      "dtypes: float64(10), int64(7), object(7)\n",
      "memory usage: 412.4+ MB\n"
     ]
    }
   ],
   "source": [
    "df.info()"
   ]
  },
  {
   "cell_type": "code",
   "execution_count": 43,
   "metadata": {},
   "outputs": [
    {
     "data": {
      "text/plain": [
       "Text(0, 0.5, 'distribution')"
      ]
     },
     "execution_count": 43,
     "metadata": {},
     "output_type": "execute_result"
    },
    {
     "data": {
      "image/png": "[encoded data removed]",
      "text/plain": [
       "<Figure size 720x360 with 1 Axes>"
      ]
     },
     "metadata": {
      "needs_background": "light"
     },
     "output_type": "display_data"
    }
   ],
   "source": [
    "#histogram for members_age to explore the distribution of members age \n",
    "plt.figure(figsize=[10, 5])\n",
    "bin_edges = np.arange(0, df['members_age'].max()+4, 4)\n",
    "plt.hist(df['members_age'], bins=bin_edges)\n",
    "plt.title('members_age distribution')\n",
    "plt.xlabel(\"members_age\")\n",
    "plt.ylabel(\"distribution\")\n"
   ]
  },
  {
   "cell_type": "markdown",
   "metadata": {},
   "source": [
    "According to the histogram : most of the members age between 20 and 60 and few members have age above 60 to 80 years old "
   ]
  },
  {
   "cell_type": "code",
   "execution_count": 41,
   "metadata": {},
   "outputs": [
    {
     "data": {
      "text/plain": [
       "<matplotlib.axes._subplots.AxesSubplot at 0x1fe90ab2f88>"
      ]
     },
     "execution_count": 41,
     "metadata": {},
     "output_type": "execute_result"
    },
    {
     "data": {
      "image/png": "[encoded data removed]",
      "text/plain": [
       "<Figure size 432x288 with 1 Axes>"
      ]
     },
     "metadata": {
      "needs_background": "light"
     },
     "output_type": "display_data"
    }
   ],
   "source": [
    "sb.distplot(df['members_age'])\n"
   ]
  },
  {
   "cell_type": "code",
   "execution_count": 21,
   "metadata": {},
   "outputs": [
    {
     "name": "stdout",
     "output_type": "stream",
     "text": [
      "<class 'pandas.core.frame.DataFrame'>\n",
      "RangeIndex: 2252058 entries, 0 to 2252057\n",
      "Data columns (total 23 columns):\n",
      " #   Column                   Dtype  \n",
      "---  ------                   -----  \n",
      " 0   Unnamed: 0               int64  \n",
      " 1   Unnamed: 0.1             float64\n",
      " 2   duration_sec             int64  \n",
      " 3   start_time               object \n",
      " 4   end_time                 object \n",
      " 5   start_station_id         float64\n",
      " 6   start_station_name       object \n",
      " 7   start_station_latitude   float64\n",
      " 8   start_station_longitude  float64\n",
      " 9   end_station_id           float64\n",
      " 10  end_station_name         object \n",
      " 11  end_station_latitude     float64\n",
      " 12  end_station_longitude    float64\n",
      " 13  bike_id                  int64  \n",
      " 14  user_type                object \n",
      " 15  member_birth_year        float64\n",
      " 16  member_gender            object \n",
      " 17  bike_share_for_all_trip  object \n",
      " 18  members_age              float64\n",
      " 19  start_year               int64  \n",
      " 20  start_month              int64  \n",
      " 21  end_year                 int64  \n",
      " 22  end_month                int64  \n",
      "dtypes: float64(9), int64(7), object(7)\n",
      "memory usage: 395.2+ MB\n"
     ]
    }
   ],
   "source": [
    "df.info()"
   ]
  },
  {
   "cell_type": "markdown",
   "metadata": {},
   "source": [
    "next step : Explore the aspects of the data like number of modes and skew and\n",
    "find the outliers in the data for further investigation."
   ]
  },
  {
   "cell_type": "code",
   "execution_count": 27,
   "metadata": {},
   "outputs": [
    {
     "data": {
      "text/plain": [
       "(0, 40)"
      ]
     },
     "execution_count": 27,
     "metadata": {},
     "output_type": "execute_result"
    },
    {
     "data": {
      "image/png": "[encoded data removed]",
      "text/plain": [
       "<Figure size 720x360 with 2 Axes>"
      ]
     },
     "metadata": {
      "needs_background": "light"
     },
     "output_type": "display_data"
    }
   ],
   "source": [
    "# members_age histogram \n",
    "\n",
    "plt.figure(figsize = [10, 5])\n",
    "plt.subplot(1, 2, 1)\n",
    "bin_edges = np.arange(0, df['members_age'].max()+2.5, 2.5)\n",
    "plt.hist(data = df, x = 'members_age', bins = bin_edges)\n",
    "\n",
    "plt.subplot(1, 2, 2)\n",
    "bin_edges = np.arange(0, 35+1, 1)\n",
    "plt.hist(data = df, x = 'members_age', bins = bin_edges)\n",
    "plt.xlim(0, 40)\n"
   ]
  },
  {
   "cell_type": "markdown",
   "metadata": {},
   "source": [
    " histogram on left: full data\n",
    " histogram on right: focus in on bulk of data < 35\n"
   ]
  },
  {
   "cell_type": "markdown",
   "metadata": {},
   "source": [
    "part 2 ) bivariate exploratory data analysis"
   ]
  },
  {
   "cell_type": "markdown",
   "metadata": {},
   "source": [
    " step 1 ) inspect the relationship between columns"
   ]
  },
  {
   "cell_type": "code",
   "execution_count": 9,
   "metadata": {},
   "outputs": [
    {
     "name": "stdout",
     "output_type": "stream",
     "text": [
      "<class 'pandas.core.frame.DataFrame'>\n",
      "RangeIndex: 2252058 entries, 0 to 2252057\n",
      "Data columns (total 23 columns):\n",
      " #   Column                   Dtype  \n",
      "---  ------                   -----  \n",
      " 0   Unnamed: 0               int64  \n",
      " 1   Unnamed: 0.1             float64\n",
      " 2   duration_sec             int64  \n",
      " 3   start_time               object \n",
      " 4   end_time                 object \n",
      " 5   start_station_id         float64\n",
      " 6   start_station_name       object \n",
      " 7   start_station_latitude   float64\n",
      " 8   start_station_longitude  float64\n",
      " 9   end_station_id           float64\n",
      " 10  end_station_name         object \n",
      " 11  end_station_latitude     float64\n",
      " 12  end_station_longitude    float64\n",
      " 13  bike_id                  int64  \n",
      " 14  user_type                object \n",
      " 15  member_birth_year        float64\n",
      " 16  member_gender            object \n",
      " 17  bike_share_for_all_trip  object \n",
      " 18  members_age              float64\n",
      " 19  start_year               int64  \n",
      " 20  start_month              int64  \n",
      " 21  end_year                 int64  \n",
      " 22  end_month                int64  \n",
      "dtypes: float64(9), int64(7), object(7)\n",
      "memory usage: 395.2+ MB\n"
     ]
    }
   ],
   "source": [
    "df.info()"
   ]
  },
  {
   "cell_type": "code",
   "execution_count": 11,
   "metadata": {},
   "outputs": [
    {
     "data": {
      "text/plain": [
       "Text(0, 0.5, 'duration_sec')"
      ]
     },
     "execution_count": 11,
     "metadata": {},
     "output_type": "execute_result"
    },
    {
     "data": {
      "image/png": "[encoded data removed]",
      "text/plain": [
       "<Figure size 432x288 with 1 Axes>"
      ]
     },
     "metadata": {
      "needs_background": "light"
     },
     "output_type": "display_data"
    }
   ],
   "source": [
    "plt.scatter(data = df, x = 'members_age', y = 'duration_sec')\n",
    "plt.title(\"relationship between members_age and ride duration(sec)\")\n",
    "plt.xlabel(\"members_age\")\n",
    "plt.ylabel(\"duration_sec\")\n"
   ]
  },
  {
   "cell_type": "code",
   "execution_count": null,
   "metadata": {},
   "outputs": [],
   "source": [
    "plt.scatter(data = df, x = 'start_time', y = 'end_time')\n"
   ]
  },
  {
   "cell_type": "markdown",
   "metadata": {},
   "source": [
    "We can see as lower values of members_age of the x-axis variable are associated with greatly increasing values of the duration_sec plotted on the y-axis.\n",
    "\n"
   ]
  },
  {
   "cell_type": "markdown",
   "metadata": {},
   "source": [
    "step 2 ) explore the relationship between one quantitative and one qualitative columns"
   ]
  },
  {
   "cell_type": "code",
   "execution_count": 14,
   "metadata": {},
   "outputs": [
    {
     "name": "stdout",
     "output_type": "stream",
     "text": [
      "<class 'pandas.core.frame.DataFrame'>\n",
      "RangeIndex: 2252058 entries, 0 to 2252057\n",
      "Data columns (total 23 columns):\n",
      " #   Column                   Dtype  \n",
      "---  ------                   -----  \n",
      " 0   Unnamed: 0               int64  \n",
      " 1   Unnamed: 0.1             float64\n",
      " 2   duration_sec             int64  \n",
      " 3   start_time               object \n",
      " 4   end_time                 object \n",
      " 5   start_station_id         float64\n",
      " 6   start_station_name       object \n",
      " 7   start_station_latitude   float64\n",
      " 8   start_station_longitude  float64\n",
      " 9   end_station_id           float64\n",
      " 10  end_station_name         object \n",
      " 11  end_station_latitude     float64\n",
      " 12  end_station_longitude    float64\n",
      " 13  bike_id                  int64  \n",
      " 14  user_type                object \n",
      " 15  member_birth_year        float64\n",
      " 16  member_gender            object \n",
      " 17  bike_share_for_all_trip  object \n",
      " 18  members_age              float64\n",
      " 19  start_year               int64  \n",
      " 20  start_month              int64  \n",
      " 21  end_year                 int64  \n",
      " 22  end_month                int64  \n",
      "dtypes: float64(9), int64(7), object(7)\n",
      "memory usage: 395.2+ MB\n"
     ]
    }
   ],
   "source": [
    "df.info()"
   ]
  },
  {
   "cell_type": "code",
   "execution_count": 7,
   "metadata": {},
   "outputs": [
    {
     "data": {
      "text/plain": [
       "<matplotlib.axes._subplots.AxesSubplot at 0x16501241fc8>"
      ]
     },
     "execution_count": 7,
     "metadata": {},
     "output_type": "execute_result"
    },
    {
     "data": {
      "image/png": "[encoded data removed]",
      "text/plain": [
       "<Figure size 432x288 with 1 Axes>"
      ]
     },
     "metadata": {
      "needs_background": "light"
     },
     "output_type": "display_data"
    }
   ],
   "source": [
    "sb.violinplot(data = df, x = 'start_month', y = 'members_age')\n"
   ]
  },
  {
   "cell_type": "code",
   "execution_count": 10,
   "metadata": {
    "scrolled": true
   },
   "outputs": [
    {
     "data": {
      "text/plain": [
       "<matplotlib.axes._subplots.AxesSubplot at 0x16501df8a48>"
      ]
     },
     "execution_count": 10,
     "metadata": {},
     "output_type": "execute_result"
    },
    {
     "data": {
      "image/png": "[encoded data removed]",
      "text/plain": [
       "<Figure size 432x288 with 1 Axes>"
      ]
     },
     "metadata": {
      "needs_background": "light"
     },
     "output_type": "display_data"
    }
   ],
   "source": [
    "base_color = sb.color_palette()[0]\n",
    "sb.violinplot(data = df, x = 'start_month', y = 'members_age', color = base_color,\n",
    "              inner = None)"
   ]
  },
  {
   "cell_type": "markdown",
   "metadata": {},
   "source": [
    "#relations between user type and user gender "
   ]
  },
  {
   "cell_type": "code",
   "execution_count": 18,
   "metadata": {},
   "outputs": [
    {
     "data": {
      "text/plain": [
       "<seaborn.axisgrid.FacetGrid at 0x1656b6bc708>"
      ]
     },
     "execution_count": 18,
     "metadata": {},
     "output_type": "execute_result"
    },
    {
     "data": {
      "image/png": "[encoded data removed]",
      "text/plain": [
       "<Figure size 360x360 with 1 Axes>"
      ]
     },
     "metadata": {
      "needs_background": "light"
     },
     "output_type": "display_data"
    }
   ],
   "source": [
    "import seaborn as sns \n",
    "sns.catplot(x='members_age', y ='user_type' , data = df)"
   ]
  },
  {
   "cell_type": "code",
   "execution_count": null,
   "metadata": {},
   "outputs": [],
   "source": [
    "colcusions \n",
    "the male geneder freq is higher than the female and othertype \n",
    "Male      1541528\n",
    "Female     507383\n",
    "\n",
    "the subscriber type freq is higher than the customer type \n",
    "Subscriber    1878472\n",
    "Customer       373586\n",
    "\n",
    "most of the times there is no bike share for all trip\n",
    "October is the most freq month and decemeber is the lowest\n",
    "According to the histogram : most of the members age between 20 and 60 and few members have age above 60 to 80 years old \n"
   ]
  }
 ],
 "metadata": {
  "kernelspec": {
   "display_name": "Python 3",
   "language": "python",
   "name": "python3"
  },
  "language_info": {
   "codemirror_mode": {
    "name": "ipython",
    "version": 3
   },
   "file_extension": ".py",
   "mimetype": "text/x-python",
   "name": "python",
   "nbconvert_exporter": "python",
   "pygments_lexer": "ipython3",
   "version": "3.7.6"
  }
 },
 "nbformat": 4,
 "nbformat_minor": 4
}
